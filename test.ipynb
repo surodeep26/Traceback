{
 "cells": [
  {
   "cell_type": "code",
   "execution_count": 14,
   "metadata": {},
   "outputs": [],
   "source": [
    "from astropy.coordinates import SkyCoord\n",
    "from astropy.table import Table\n",
    "from astropy.time import Time\n",
    "from astropy import units as u\n",
    "import time\n",
    "from astropy.coordinates.angles import Angle\n",
    "from astroquery.vizier import Vizier\n",
    "from astropy.utils.metadata import MergeConflictWarning\n",
    "import warnings\n",
    "\n",
    "def get_catalog(name):\n",
    "    return Vizier(columns=[\"*\", \"+_r\"], row_limit=-1).get_catalogs(name)[0]\n",
    "\n",
    "def searchDR3(skycoordinate: SkyCoord, radius: Angle) -> Table:\n",
    "    start_time = time.time()\n",
    "    print(f\"Searching in Gaia DR3 I/355/gaiadr3 {radius} around {skycoordinate.ra, skycoordinate.dec, skycoordinate.distance}\")\n",
    "    filters = {'Gmag': '<17', 'Plx': '>0.3'}\n",
    "    stars_fromDR3 = Vizier(columns=[\"*\", \"+_r\"], row_limit=-1).query_region(\n",
    "        skycoordinate, \n",
    "        radius=radius, \n",
    "        catalog=\"I/355/gaiadr3\",\n",
    "        column_filters=filters\n",
    "    )[0]  \n",
    "    stars_fromDR3['SkyCoord1'] = SkyCoord(\n",
    "        ra=stars_fromDR3['RA_ICRS'],\n",
    "        dec=stars_fromDR3['DE_ICRS'],\n",
    "        distance=(stars_fromDR3['Plx']).to(u.pc, equivalencies=u.parallax()),\n",
    "        pm_ra_cosdec=stars_fromDR3['pmRA'],\n",
    "        pm_dec=stars_fromDR3['pmDE'],\n",
    "        obstime=(Time('J2000') + 1 * u.Myr)\n",
    "    )\n",
    "    end_time = time.time()\n",
    "    print(f\"found {len(stars_fromDR3):,} sources in {end_time - start_time:.2f} seconds\")\n",
    "    return stars_fromDR3\n",
    "\n",
    "def searchDR3_dist(skycoordinate: SkyCoord, radius: Angle) -> Table:\n",
    "    start_time = time.time()\n",
    "    print(f\"Searching in Gaia DR3 distances I/352/gedr3dis {radius} around {skycoordinate.ra, skycoordinate.dec, skycoordinate.distance}\")\n",
    "    stars_fromDR3_dist = Vizier(columns=[\"*\", \"+_r\"], row_limit=-1).query_region(\n",
    "        skycoordinate, \n",
    "        radius=radius, \n",
    "        catalog=\"I/352/gedr3dis\"\n",
    "    )[0]\n",
    "    stars_fromDR3_dist['SkyCoord2'] = SkyCoord(\n",
    "        ra=stars_fromDR3_dist['RA_ICRS'],\n",
    "        dec=stars_fromDR3_dist['DE_ICRS'],\n",
    "        distance=(stars_fromDR3_dist['rgeo']),\n",
    "        obstime=(Time('J2000') + 1 * u.Myr)\n",
    "    )\n",
    "    end_time = time.time()\n",
    "    print(f\"found {len(stars_fromDR3_dist):,} sources in {end_time - start_time:.2f} seconds\")\n",
    "    # filtered_catalog = stars_fromDR3_dist[skycoordinate.separation_3d(stars_fromDR3_dist['SkyCoord2']) < skycoordinate.distance*config['Cluster']['distance_tolerance']]\n",
    "    return stars_fromDR3_dist\n",
    "\n",
    "def merge_gaia_tables(stars_fromDR3: Table, stars_fromDR3_dist: Table) -> Table:\n",
    "    start_time = time.time()\n",
    "    print(\"Starting merge of DR3 and distance catalog data\")\n",
    "\n",
    "    warnings.simplefilter('ignore', MergeConflictWarning)\n",
    "    merged = join(stars_fromDR3, stars_fromDR3_dist, keys='Source', join_type='inner')\n",
    "\n",
    "    # Order the columns\n",
    "    merged = merged['RA_ICRS_1', 'DE_ICRS_1', 'e_RA_ICRS', 'e_DE_ICRS', '_r_1',\n",
    "                                       'HIP', 'TYC2', 'Source', 'rgeo', 'Plx', 'e_Plx',\n",
    "                                       'pmRA', 'pmDE', 'e_pmRA', 'e_pmDE',\n",
    "                                       'RUWE', 'Teff', 'logg', 'Gmag', 'BP-RP', 'BPmag', 'RPmag', 'RV', 'e_RV',\n",
    "                                       'b_rgeo', 'B_rgeo', 'FG', 'e_FG', 'FBP', 'e_FBP', 'FRP', 'e_FRP', 'RAVE5', 'RAVE6']\n",
    "\n",
    "    # Adding row for uncertainties in Gmag and BPmag and RPmag\n",
    "    # values for Gaia G, G_BP, G_RP zero point uncertainties\n",
    "    #refer https://astronomy.stackexchange.com/questions/38371/how-can-i-calculate-the-uncertainties-in-magnitude-like-the-cds-does\n",
    "    #refer https://www.cosmos.esa.int/web/gaia/edr3-passbands\n",
    "    sigmaG_0 = 0.0027553202\n",
    "    sigmaGBP_0 = 0.0027901700\n",
    "    sigmaGRP_0 = 0.0037793818\n",
    "\n",
    "    merged['e_Gmag'] = np.sqrt((-2.5 / np.log(10) * merged['e_FG'] / merged['FG'])**2 + sigmaG_0**2)\n",
    "    merged['e_BPmag'] = np.sqrt((-2.5 / np.log(10) * merged['e_FBP'] / merged['FBP'])**2 + sigmaGBP_0**2)\n",
    "    merged['e_RPmag'] = np.sqrt((-2.5 / np.log(10) * merged['e_FRP'] / merged['FRP'])**2 + sigmaGRP_0**2)\n",
    "    merged['e_BP-RP'] = merged['e_BPmag'] + merged['e_RPmag']\n",
    "\n",
    "    merged['SkyCoord'] = SkyCoord(\n",
    "        ra=merged['RA_ICRS_1'],\n",
    "        dec=merged['DE_ICRS_1'],\n",
    "        distance=(merged['rgeo']),\n",
    "        pm_ra_cosdec=merged['pmRA'],\n",
    "        pm_dec=merged['pmDE'],\n",
    "        obstime=(Time('J2000') + 1 * u.Myr)\n",
    "    )\n",
    "\n",
    "    end_time = time.time()\n",
    "    print(f\"{len(merged):,} sources found by merging in {end_time - start_time:.2f} seconds\")\n",
    "    return merged\n",
    "\n",
    "def get_stars_in_region(self) -> Table:\n",
    "    c = ClusterDias(self.name).skycoord\n",
    "    t1 = searchDR3(c,self.search_arcmin)\n",
    "    t2 = searchDR3_dist(c,self.search_arcmin)\n",
    "    t3 = merge_gaia_tables(t1,t2)\n",
    "    t3.sort('Gmag')\n",
    "    return t3 "
   ]
  },
  {
   "cell_type": "code",
   "execution_count": 5,
   "metadata": {},
   "outputs": [
    {
     "data": {
      "text/plain": [
       "<SkyCoord (ICRS): (ra, dec) in deg\n",
       "    (81.625, 42.9333333)>"
      ]
     },
     "execution_count": 5,
     "metadata": {},
     "output_type": "execute_result"
    }
   ],
   "source": [
    "SkyCoord.from_name(\"SNR G166.0+04.3\")"
   ]
  },
  {
   "cell_type": "code",
   "execution_count": 29,
   "metadata": {},
   "outputs": [],
   "source": [
    "green = get_catalog(\"VII/272/snrs\")"
   ]
  },
  {
   "cell_type": "code",
   "execution_count": 28,
   "metadata": {},
   "outputs": [
    {
     "data": {
      "text/html": [
       "<div><i>Table length=294</i>\n",
       "<table id=\"table127709878665920\" class=\"table-striped table-bordered table-condensed\">\n",
       "<thead><tr><th>SNR</th><th>RAJ2000</th><th>DEJ2000</th><th>Dmaj</th><th>Dmin</th><th>u_Dmin</th><th>type</th><th>l_S_1GHz_</th><th>S_1GHz_</th><th>u_S_1GHz_</th><th>alpha</th><th>u_alpha</th><th>Names</th><th>Simbad</th></tr></thead>\n",
       "<thead><tr><th></th><th></th><th></th><th>arcmin</th><th>arcmin</th><th></th><th></th><th></th><th>Jy</th><th></th><th></th><th></th><th></th><th></th></tr></thead>\n",
       "<thead><tr><th>str11</th><th>str8</th><th>str6</th><th>float32</th><th>float32</th><th>str1</th><th>str2</th><th>str1</th><th>float32</th><th>str1</th><th>float32</th><th>str2</th><th>str26</th><th>str6</th></tr></thead>\n",
       "<tr><td>G000.0+00.0</td><td>17 45 44</td><td>-29 00</td><td>3.5</td><td>2.5</td><td></td><td>S</td><td></td><td>100.0</td><td>?</td><td>0.80</td><td>?</td><td>Sgr A East</td><td>Simbad</td></tr>\n",
       "<tr><td>G000.3+00.0</td><td>17 46 15</td><td>-28 38</td><td>15.0</td><td>8.0</td><td></td><td>S</td><td></td><td>22.0</td><td></td><td>0.60</td><td></td><td></td><td>Simbad</td></tr>\n",
       "<tr><td>G000.9+00.1</td><td>17 47 21</td><td>-28 09</td><td>8.0</td><td>--</td><td></td><td>C</td><td></td><td>18.0</td><td>?</td><td>--</td><td>v</td><td></td><td>Simbad</td></tr>\n",
       "<tr><td>G001.0-00.1</td><td>17 48 30</td><td>-28 09</td><td>8.0</td><td>--</td><td></td><td>S</td><td></td><td>15.0</td><td></td><td>0.60</td><td>?</td><td></td><td>Simbad</td></tr>\n",
       "<tr><td>G001.4-00.1</td><td>17 49 39</td><td>-27 46</td><td>10.0</td><td>--</td><td></td><td>S</td><td></td><td>2.0</td><td>?</td><td>--</td><td>?</td><td></td><td>Simbad</td></tr>\n",
       "<tr><td>G001.9+00.3</td><td>17 48 45</td><td>-27 10</td><td>1.5</td><td>--</td><td></td><td>S</td><td></td><td>0.6</td><td></td><td>0.60</td><td></td><td></td><td>Simbad</td></tr>\n",
       "<tr><td>G003.7-00.2</td><td>17 55 26</td><td>-25 50</td><td>14.0</td><td>11.0</td><td></td><td>S</td><td></td><td>2.3</td><td></td><td>0.65</td><td></td><td></td><td>Simbad</td></tr>\n",
       "<tr><td>G003.8+00.3</td><td>17 52 55</td><td>-25 28</td><td>18.0</td><td>--</td><td></td><td>S?</td><td></td><td>3.0</td><td>?</td><td>0.60</td><td></td><td></td><td>Simbad</td></tr>\n",
       "<tr><td>G004.2-03.5</td><td>18 08 55</td><td>-27 03</td><td>28.0</td><td>--</td><td></td><td>S</td><td></td><td>3.2</td><td>?</td><td>0.60</td><td>?</td><td></td><td>Simbad</td></tr>\n",
       "<tr><td>...</td><td>...</td><td>...</td><td>...</td><td>...</td><td>...</td><td>...</td><td>...</td><td>...</td><td>...</td><td>...</td><td>...</td><td>...</td><td>...</td></tr>\n",
       "<tr><td>G356.3-01.5</td><td>17 42 35</td><td>-32 52</td><td>20.0</td><td>15.0</td><td></td><td>S</td><td></td><td>3.0</td><td>?</td><td>--</td><td>?</td><td></td><td>Simbad</td></tr>\n",
       "<tr><td>G356.3-00.3</td><td>17 37 56</td><td>-32 16</td><td>11.0</td><td>7.0</td><td></td><td>S</td><td></td><td>3.0</td><td>?</td><td>--</td><td>?</td><td></td><td>Simbad</td></tr>\n",
       "<tr><td>G357.7-00.1</td><td>17 40 29</td><td>-30 58</td><td>8.0</td><td>3.0</td><td>?</td><td>?</td><td></td><td>37.0</td><td></td><td>0.40</td><td></td><td>MSH 17-39</td><td>Simbad</td></tr>\n",
       "<tr><td>G357.7+00.3</td><td>17 38 35</td><td>-30 44</td><td>24.0</td><td>--</td><td></td><td>S</td><td></td><td>10.0</td><td></td><td>0.40</td><td>?</td><td></td><td>Simbad</td></tr>\n",
       "<tr><td>G358.0+03.8</td><td>17 26 00</td><td>-28 36</td><td>38.0</td><td>--</td><td></td><td>S</td><td></td><td>1.5</td><td>?</td><td>--</td><td>?</td><td></td><td>Simbad</td></tr>\n",
       "<tr><td>G358.1+00.1</td><td>17 37 00</td><td>-29 59</td><td>20.0</td><td>--</td><td></td><td>S</td><td></td><td>2.0</td><td>?</td><td>--</td><td>?</td><td></td><td>Simbad</td></tr>\n",
       "<tr><td>G358.5-00.9</td><td>17 46 10</td><td>-30 40</td><td>17.0</td><td>--</td><td></td><td>S</td><td></td><td>4.0</td><td>?</td><td>--</td><td>?</td><td></td><td>Simbad</td></tr>\n",
       "<tr><td>G359.0-00.9</td><td>17 46 50</td><td>-30 16</td><td>23.0</td><td>--</td><td></td><td>S</td><td></td><td>23.0</td><td></td><td>0.50</td><td></td><td></td><td>Simbad</td></tr>\n",
       "<tr><td>G359.1-00.5</td><td>17 45 30</td><td>-29 57</td><td>24.0</td><td>--</td><td></td><td>S</td><td></td><td>14.0</td><td></td><td>0.40</td><td>?</td><td></td><td>Simbad</td></tr>\n",
       "<tr><td>G359.1+00.9</td><td>17 39 36</td><td>-29 11</td><td>12.0</td><td>11.0</td><td></td><td>S</td><td></td><td>2.0</td><td>?</td><td>--</td><td>?</td><td></td><td>Simbad</td></tr>\n",
       "</table></div>"
      ],
      "text/plain": [
       "<Table length=294>\n",
       "    SNR     RAJ2000  DEJ2000   Dmaj  ...  alpha  u_alpha   Names    Simbad\n",
       "                              arcmin ...                                  \n",
       "   str11      str8     str6  float32 ... float32   str2    str26     str6 \n",
       "----------- -------- ------- ------- ... ------- ------- ---------- ------\n",
       "G000.0+00.0 17 45 44  -29 00     3.5 ...    0.80       ? Sgr A East Simbad\n",
       "G000.3+00.0 17 46 15  -28 38    15.0 ...    0.60                    Simbad\n",
       "G000.9+00.1 17 47 21  -28 09     8.0 ...      --       v            Simbad\n",
       "G001.0-00.1 17 48 30  -28 09     8.0 ...    0.60       ?            Simbad\n",
       "G001.4-00.1 17 49 39  -27 46    10.0 ...      --       ?            Simbad\n",
       "G001.9+00.3 17 48 45  -27 10     1.5 ...    0.60                    Simbad\n",
       "G003.7-00.2 17 55 26  -25 50    14.0 ...    0.65                    Simbad\n",
       "G003.8+00.3 17 52 55  -25 28    18.0 ...    0.60                    Simbad\n",
       "G004.2-03.5 18 08 55  -27 03    28.0 ...    0.60       ?            Simbad\n",
       "        ...      ...     ...     ... ...     ...     ...        ...    ...\n",
       "G356.3-01.5 17 42 35  -32 52    20.0 ...      --       ?            Simbad\n",
       "G356.3-00.3 17 37 56  -32 16    11.0 ...      --       ?            Simbad\n",
       "G357.7-00.1 17 40 29  -30 58     8.0 ...    0.40          MSH 17-39 Simbad\n",
       "G357.7+00.3 17 38 35  -30 44    24.0 ...    0.40       ?            Simbad\n",
       "G358.0+03.8 17 26 00  -28 36    38.0 ...      --       ?            Simbad\n",
       "G358.1+00.1 17 37 00  -29 59    20.0 ...      --       ?            Simbad\n",
       "G358.5-00.9 17 46 10  -30 40    17.0 ...      --       ?            Simbad\n",
       "G359.0-00.9 17 46 50  -30 16    23.0 ...    0.50                    Simbad\n",
       "G359.1-00.5 17 45 30  -29 57    24.0 ...    0.40       ?            Simbad\n",
       "G359.1+00.9 17 39 36  -29 11    12.0 ...      --       ?            Simbad"
      ]
     },
     "execution_count": 28,
     "metadata": {},
     "output_type": "execute_result"
    }
   ],
   "source": [
    "get_catalog(\"VII/272/snrs\")"
   ]
  },
  {
   "cell_type": "code",
   "execution_count": 31,
   "metadata": {},
   "outputs": [
    {
     "name": "stdout",
     "output_type": "stream",
     "text": [
      "Searching in Gaia DR3 I/355/gaiadr3 1.0 deg around (<Longitude 81.625 deg>, <Latitude 42.9333333 deg>, <Quantity 1.>)\n",
      "found 14,334 sources in 1.55 seconds\n"
     ]
    },
    {
     "data": {
      "text/html": [
       "<div><i>Table length=14334</i>\n",
       "<table id=\"table127709863759744\" class=\"table-striped table-bordered table-condensed\">\n",
       "<thead><tr><th>_r</th><th>RA_ICRS</th><th>DE_ICRS</th><th>Source</th><th>e_RA_ICRS</th><th>e_DE_ICRS</th><th>Plx</th><th>e_Plx</th><th>PM</th><th>pmRA</th><th>e_pmRA</th><th>pmDE</th><th>e_pmDE</th><th>RUWE</th><th>FG</th><th>e_FG</th><th>Gmag</th><th>FBP</th><th>e_FBP</th><th>BPmag</th><th>FRP</th><th>e_FRP</th><th>RPmag</th><th>BP-RP</th><th>RV</th><th>e_RV</th><th>Vbroad</th><th>GRVSmag</th><th>QSO</th><th>Gal</th><th>NSS</th><th>XPcont</th><th>XPsamp</th><th>RVS</th><th>EpochPh</th><th>EpochRV</th><th>MCMCGSP</th><th>MCMCMSC</th><th>And</th><th>Teff</th><th>logg</th><th>__Fe_H_</th><th>Dist</th><th>A0</th><th>HIP</th><th>PS1</th><th>SDSS13</th><th>SKYM2</th><th>TYC2</th><th>URAT1</th><th>AllWISE</th><th>APASS9</th><th>GSC23</th><th>RAVE5</th><th>_2MASS</th><th>RAVE6</th><th>RAJ2000</th><th>DEJ2000</th><th>SkyCoord1</th></tr></thead>\n",
       "<thead><tr><th></th><th>deg</th><th>deg</th><th></th><th>mas</th><th>mas</th><th>mas</th><th>mas</th><th>mas / yr</th><th>mas / yr</th><th>mas / yr</th><th>mas / yr</th><th>mas / yr</th><th></th><th></th><th></th><th>mag</th><th></th><th></th><th>mag</th><th></th><th></th><th>mag</th><th>mag</th><th>km / s</th><th>km / s</th><th>km / s</th><th>mag</th><th></th><th></th><th></th><th></th><th></th><th></th><th></th><th></th><th></th><th></th><th></th><th>K</th><th>log(cm.s**-2)</th><th></th><th>pc</th><th>mag</th><th></th><th></th><th></th><th></th><th></th><th></th><th></th><th></th><th></th><th></th><th></th><th></th><th>deg</th><th>deg</th><th>deg,deg,pc</th></tr></thead>\n",
       "<thead><tr><th>float64</th><th>float64</th><th>float64</th><th>int64</th><th>float64</th><th>float64</th><th>float64</th><th>float32</th><th>float64</th><th>float64</th><th>float32</th><th>float64</th><th>float32</th><th>float64</th><th>float64</th><th>float32</th><th>float64</th><th>float32</th><th>float32</th><th>float64</th><th>float32</th><th>float32</th><th>float64</th><th>float64</th><th>float64</th><th>float32</th><th>float64</th><th>float64</th><th>uint8</th><th>uint8</th><th>uint8</th><th>uint8</th><th>uint8</th><th>uint8</th><th>uint8</th><th>uint8</th><th>uint8</th><th>uint8</th><th>uint8</th><th>float64</th><th>float64</th><th>float64</th><th>float64</th><th>float64</th><th>int32</th><th>int64</th><th>int64</th><th>int32</th><th>str12</th><th>str15</th><th>str19</th><th>int32</th><th>str10</th><th>str16</th><th>str17</th><th>str21</th><th>float64</th><th>float64</th><th>SkyCoord</th></tr></thead>\n",
       "<tr><td>0.008503</td><td>81.63654871254</td><td>42.93236286330</td><td>195633252072133248</td><td>0.0532</td><td>0.0341</td><td>0.4771</td><td>0.0632</td><td>4.583</td><td>0.714</td><td>0.077</td><td>-4.527</td><td>0.056</td><td>1.032</td><td>1707107.39292</td><td>1.32e+04</td><td>10.106715</td><td>5.038e+04</td><td>579.9</td><td>13.582963</td><td>2.812e+06</td><td>5.333e+04</td><td>8.625454</td><td>4.957509</td><td>--</td><td>--</td><td>--</td><td>--</td><td>0</td><td>0</td><td>0</td><td>1</td><td>1</td><td>0</td><td>1</td><td>0</td><td>0</td><td>1</td><td>0</td><td>3386.0</td><td>0.1079</td><td>0.7626</td><td>3735.0947</td><td>3.2623</td><td>--</td><td>--</td><td>--</td><td>--</td><td></td><td>URAT1-665155321</td><td></td><td>1018473</td><td>NC96000073</td><td></td><td>05263276+4255565</td><td></td><td>81.63654438102</td><td>42.93238298472</td><td>81.63654871254,42.9323628633,2095.9966464053655</td></tr>\n",
       "<tr><td>0.010488</td><td>81.63455124943</td><td>42.94115149629</td><td>195633256371002496</td><td>0.0233</td><td>0.0156</td><td>0.6533</td><td>0.0267</td><td>8.263</td><td>2.938</td><td>0.034</td><td>-7.723</td><td>0.025</td><td>1.039</td><td>17735.86849</td><td>5.352</td><td>15.065236</td><td>8793</td><td>14.28</td><td>15.478221</td><td>1.299e+04</td><td>16.26</td><td>14.464232</td><td>1.013989</td><td>--</td><td>--</td><td>--</td><td>--</td><td>0</td><td>0</td><td>0</td><td>1</td><td>0</td><td>0</td><td>1</td><td>0</td><td>1</td><td>1</td><td>0</td><td>6407.0</td><td>4.2235</td><td>-1.0823</td><td>1179.2158</td><td>0.9304</td><td>--</td><td>159530816345170059</td><td>--</td><td>--</td><td></td><td>URAT1-665155310</td><td></td><td>1018471</td><td>NC96004812</td><td></td><td>05263229+4256282</td><td></td><td>81.63453341263</td><td>42.94118582027</td><td>81.63455124943,42.94115149629,1530.6903413439459</td></tr>\n",
       "<tr><td>0.015768</td><td>81.60423028846</td><td>42.92918404038</td><td>195633290730748544</td><td>0.0192</td><td>0.0125</td><td>0.3354</td><td>0.0222</td><td>3.066</td><td>0.748</td><td>0.028</td><td>-2.973</td><td>0.021</td><td>1.028</td><td>26973.16616</td><td>5.26</td><td>14.610037</td><td>1.309e+04</td><td>20.05</td><td>15.046293</td><td>2.001e+04</td><td>17.12</td><td>13.994703</td><td>1.051590</td><td>-6.74</td><td>6.20</td><td>--</td><td>13.756598</td><td>0</td><td>0</td><td>0</td><td>1</td><td>1</td><td>0</td><td>0</td><td>0</td><td>0</td><td>1</td><td>0</td><td>6754.7</td><td>3.6982</td><td>-0.3178</td><td>2460.8284</td><td>1.2240</td><td>--</td><td>159510816041945707</td><td>--</td><td>--</td><td></td><td>URAT1-665155199</td><td>J052625.01+425545.1</td><td>1018470</td><td>NCAD004342</td><td></td><td>05262500+4255451</td><td></td><td>81.60422575065</td><td>42.92919725574</td><td>81.60423028846,42.92918404038,2981.514609421586</td></tr>\n",
       "<tr><td>0.019693</td><td>81.59811476243</td><td>42.93303518976</td><td>195633290730749056</td><td>0.0462</td><td>0.0299</td><td>0.5270</td><td>0.0536</td><td>7.623</td><td>4.065</td><td>0.066</td><td>-6.449</td><td>0.048</td><td>1.034</td><td>5174.69667</td><td>2.257</td><td>16.402655</td><td>2346</td><td>9.617</td><td>16.912762</td><td>4103</td><td>11.37</td><td>15.715029</td><td>1.197733</td><td>--</td><td>--</td><td>--</td><td>--</td><td>0</td><td>0</td><td>0</td><td>1</td><td>0</td><td>0</td><td>0</td><td>0</td><td>1</td><td>1</td><td>0</td><td>5729.7</td><td>4.6670</td><td>-0.9577</td><td>997.2222</td><td>0.9464</td><td>--</td><td>159520815980810312</td><td>--</td><td>--</td><td></td><td>URAT1-665155177</td><td>J052623.53+425558.9</td><td>--</td><td>NCAD004364</td><td></td><td>05262353+4255591</td><td></td><td>81.59809008374</td><td>42.93306385166</td><td>81.59811476243,42.93303518976,1897.533206831119</td></tr>\n",
       "<tr><td>0.020854</td><td>81.61260055545</td><td>42.95209988890</td><td>195645041761386112</td><td>0.0418</td><td>0.0272</td><td>0.3465</td><td>0.0463</td><td>0.633</td><td>0.097</td><td>0.059</td><td>-0.625</td><td>0.043</td><td>0.970</td><td>6047.80561</td><td>2.333</td><td>16.233372</td><td>2884</td><td>8.967</td><td>16.688612</td><td>4524</td><td>9.515</td><td>15.609165</td><td>1.079447</td><td>--</td><td>--</td><td>--</td><td>--</td><td>0</td><td>0</td><td>0</td><td>1</td><td>0</td><td>0</td><td>0</td><td>0</td><td>1</td><td>1</td><td>0</td><td>6328.1</td><td>4.4236</td><td>-0.7222</td><td>1570.6761</td><td>1.0347</td><td>--</td><td>159540816125813176</td><td>--</td><td>--</td><td></td><td>URAT1-665155234</td><td></td><td>--</td><td>NC96005059</td><td></td><td>05262701+4257076</td><td></td><td>81.61259996752</td><td>42.95210266811</td><td>81.61260055545,42.9520998889,2886.002886002886</td></tr>\n",
       "<tr><td>0.021120</td><td>81.61419477478</td><td>42.91374869975</td><td>195633011554109696</td><td>0.0452</td><td>0.0286</td><td>1.9088</td><td>0.0489</td><td>12.692</td><td>-6.123</td><td>0.061</td><td>-11.117</td><td>0.044</td><td>1.017</td><td>6343.87073</td><td>2.717</td><td>16.181480</td><td>2132</td><td>10.26</td><td>17.016417</td><td>6087</td><td>10.02</td><td>15.286949</td><td>1.729467</td><td>--</td><td>--</td><td>--</td><td>--</td><td>0</td><td>0</td><td>0</td><td>1</td><td>0</td><td>0</td><td>0</td><td>0</td><td>1</td><td>1</td><td>0</td><td>4304.1</td><td>4.6669</td><td>0.0944</td><td>482.8600</td><td>0.6917</td><td>--</td><td>159490816141847177</td><td>--</td><td>--</td><td></td><td>URAT1-665155239</td><td></td><td>--</td><td>NC96004317</td><td></td><td>05262741+4254496</td><td></td><td>81.61423193510</td><td>42.91379810727</td><td>81.61419477478,42.91374869975,523.8893545683151</td></tr>\n",
       "<tr><td>0.024166</td><td>81.59395892628</td><td>42.92513510590</td><td>195633187651536000</td><td>0.0430</td><td>0.0280</td><td>0.4068</td><td>0.0492</td><td>4.307</td><td>0.934</td><td>0.060</td><td>-4.204</td><td>0.045</td><td>0.970</td><td>5576.04424</td><td>2.312</td><td>16.321552</td><td>2587</td><td>12.79</td><td>16.806568</td><td>4293</td><td>11.08</td><td>15.665901</td><td>1.140667</td><td>--</td><td>--</td><td>--</td><td>--</td><td>0</td><td>0</td><td>0</td><td>1</td><td>0</td><td>0</td><td>0</td><td>0</td><td>1</td><td>1</td><td>0</td><td>6048.7</td><td>4.4900</td><td>-1.1509</td><td>1266.8905</td><td>1.0158</td><td>--</td><td>159510815939310827</td><td>--</td><td>--</td><td></td><td>URAT1-665155159</td><td>J052622.53+425530.8</td><td>--</td><td>NCAD004304</td><td></td><td>05262254+4255305</td><td></td><td>81.59395325541</td><td>42.92515379182</td><td>81.59395892628,42.9251351059,2458.2104228121925</td></tr>\n",
       "<tr><td>0.025522</td><td>81.59022411522</td><td>42.93499941506</td><td>195644934386463104</td><td>0.0729</td><td>0.0479</td><td>1.7722</td><td>0.0878</td><td>18.682</td><td>4.023</td><td>0.109</td><td>-18.244</td><td>0.077</td><td>1.944</td><td>6608.78976</td><td>4.875</td><td>16.137062</td><td>2224</td><td>9.097</td><td>16.970491</td><td>6686</td><td>6.274</td><td>15.185009</td><td>1.785482</td><td>--</td><td>--</td><td>--</td><td>--</td><td>0</td><td>0</td><td>0</td><td>1</td><td>0</td><td>0</td><td>0</td><td>0</td><td>1</td><td>1</td><td>0</td><td>4280.3</td><td>4.6403</td><td>0.2134</td><td>471.1016</td><td>0.6670</td><td>--</td><td>159520815901952682</td><td>--</td><td>--</td><td></td><td>URAT1-665155147</td><td>J052621.64+425606.1</td><td>--</td><td>NCAD004385</td><td></td><td>05262164+4256063</td><td></td><td>81.59019969569</td><td>42.93508049908</td><td>81.59022411522,42.93499941506,564.2703983749012</td></tr>\n",
       "<tr><td>0.030213</td><td>81.61522634524</td><td>42.96268042494</td><td>195645140541811712</td><td>0.0594</td><td>0.0393</td><td>0.5238</td><td>0.0668</td><td>3.932</td><td>1.394</td><td>0.083</td><td>-3.677</td><td>0.062</td><td>0.982</td><td>3102.71836</td><td>1.721</td><td>16.958012</td><td>1266</td><td>9.627</td><td>17.582449</td><td>2597</td><td>9.152</td><td>16.211569</td><td>1.370880</td><td>--</td><td>--</td><td>--</td><td>--</td><td>0</td><td>0</td><td>0</td><td>1</td><td>0</td><td>0</td><td>0</td><td>0</td><td>1</td><td>1</td><td>0</td><td>4860.4</td><td>4.6744</td><td>-0.3429</td><td>979.1700</td><td>0.6261</td><td>--</td><td>159550816152035875</td><td>--</td><td>--</td><td></td><td>URAT1-665155247</td><td>J052627.67+425745.8</td><td>--</td><td>NC96005240</td><td></td><td>05262764+4257456</td><td></td><td>81.61521788077</td><td>42.96269676497</td><td>81.61522634524,42.96268042494,1909.1256204658262</td></tr>\n",
       "<tr><td>...</td><td>...</td><td>...</td><td>...</td><td>...</td><td>...</td><td>...</td><td>...</td><td>...</td><td>...</td><td>...</td><td>...</td><td>...</td><td>...</td><td>...</td><td>...</td><td>...</td><td>...</td><td>...</td><td>...</td><td>...</td><td>...</td><td>...</td><td>...</td><td>...</td><td>...</td><td>...</td><td>...</td><td>...</td><td>...</td><td>...</td><td>...</td><td>...</td><td>...</td><td>...</td><td>...</td><td>...</td><td>...</td><td>...</td><td>...</td><td>...</td><td>...</td><td>...</td><td>...</td><td>...</td><td>...</td><td>...</td><td>...</td><td>...</td><td>...</td><td>...</td><td>...</td><td>...</td><td>...</td><td>...</td><td>...</td><td>...</td><td>...</td><td>...</td></tr>\n",
       "<tr><td>0.999697</td><td>82.22704128716</td><td>43.83219630216</td><td>195752175424670592</td><td>0.0512</td><td>0.0334</td><td>1.0465</td><td>0.0641</td><td>11.823</td><td>-11.411</td><td>0.070</td><td>-3.094</td><td>0.052</td><td>1.102</td><td>5349.56205</td><td>2.526</td><td>16.366571</td><td>2210</td><td>15.4</td><td>16.977613</td><td>4566</td><td>8.358</td><td>15.598931</td><td>1.378682</td><td>--</td><td>--</td><td>--</td><td>--</td><td>0</td><td>0</td><td>0</td><td>1</td><td>0</td><td>0</td><td>0</td><td>0</td><td>1</td><td>1</td><td>0</td><td>5079.8</td><td>4.6978</td><td>-0.9380</td><td>668.3862</td><td>0.9220</td><td>--</td><td>160590822270559320</td><td>--</td><td>--</td><td></td><td>URAT1-670157200</td><td>J052854.47+434955.8</td><td>--</td><td>NC96056816</td><td></td><td>05285449+4349560</td><td></td><td>82.22711159164</td><td>43.83221005404</td><td>82.22704128716,43.83219630216,955.5661729574772</td></tr>\n",
       "<tr><td>0.999709</td><td>80.32165865417</td><td>43.23891224685</td><td>207338652863451776</td><td>0.0355</td><td>0.0241</td><td>1.1140</td><td>0.0447</td><td>5.972</td><td>-0.614</td><td>0.056</td><td>-5.941</td><td>0.039</td><td>1.046</td><td>8497.00142</td><td>2.954</td><td>15.864202</td><td>3668</td><td>10.87</td><td>16.427630</td><td>6885</td><td>9.305</td><td>15.153186</td><td>1.274444</td><td>--</td><td>--</td><td>--</td><td>--</td><td>0</td><td>0</td><td>0</td><td>1</td><td>0</td><td>0</td><td>0</td><td>0</td><td>1</td><td>1</td><td>0</td><td>4857.6</td><td>4.5025</td><td>-0.0289</td><td>858.8443</td><td>0.3845</td><td>--</td><td>159880803216737352</td><td>--</td><td>--</td><td></td><td>URAT1-667154548</td><td>J052117.19+431420.1</td><td>--</td><td>NCAD046714</td><td></td><td>05211719+4314201</td><td></td><td>80.32166240251</td><td>43.23893864933</td><td>80.32165865417,43.23891224685,897.666068222621</td></tr>\n",
       "<tr><td>0.999731</td><td>81.40824700842</td><td>41.94647738482</td><td>194985334784916480</td><td>0.0401</td><td>0.0272</td><td>0.5437</td><td>0.0483</td><td>1.238</td><td>1.116</td><td>0.055</td><td>0.537</td><td>0.044</td><td>1.020</td><td>7856.55401</td><td>3.22</td><td>15.949286</td><td>3420</td><td>9.326</td><td>16.503330</td><td>6421</td><td>12.47</td><td>15.228878</td><td>1.274452</td><td>--</td><td>--</td><td>--</td><td>--</td><td>0</td><td>0</td><td>0</td><td>1</td><td>0</td><td>0</td><td>0</td><td>0</td><td>0</td><td>1</td><td>0</td><td>5733.1</td><td>4.5030</td><td>-0.6223</td><td>944.8452</td><td>1.0895</td><td>--</td><td>158330814082316428</td><td>--</td><td>--</td><td></td><td>URAT1-660147715</td><td>J052537.99+415647.2</td><td>--</td><td>NCAC022599</td><td></td><td>05253797+4156474</td><td></td><td>81.40824034266</td><td>41.94647499754</td><td>81.40824700842,41.94647738482,1839.249586168843</td></tr>\n",
       "<tr><td>0.999763</td><td>82.40984846731</td><td>43.75416160422</td><td>195744032166662656</td><td>0.0187</td><td>0.0139</td><td>1.6125</td><td>0.0222</td><td>3.988</td><td>-3.876</td><td>0.026</td><td>0.942</td><td>0.021</td><td>1.266</td><td>41641.78701</td><td>8.048</td><td>14.138543</td><td>2.094e+04</td><td>18.71</td><td>14.535827</td><td>2.978e+04</td><td>16.7</td><td>13.563199</td><td>0.972628</td><td>42.55</td><td>3.95</td><td>--</td><td>13.255925</td><td>0</td><td>0</td><td>0</td><td>1</td><td>1</td><td>0</td><td>0</td><td>0</td><td>1</td><td>1</td><td>0</td><td>5196.6</td><td>4.3465</td><td>-1.2326</td><td>598.9788</td><td>0.0749</td><td>--</td><td>160500824098735621</td><td>--</td><td>--</td><td></td><td>URAT1-669159668</td><td></td><td>--</td><td>NC96000447</td><td></td><td>05293836+4345149</td><td></td><td>82.40987231465</td><td>43.75415741854</td><td>82.40984846731,43.75416160422,620.1550387596899</td></tr>\n",
       "<tr><td>0.999836</td><td>82.92505599576</td><td>42.63444435512</td><td>194733851563445888</td><td>0.0592</td><td>0.0486</td><td>0.6931</td><td>0.0740</td><td>2.590</td><td>0.650</td><td>0.083</td><td>-2.508</td><td>0.059</td><td>1.003</td><td>3356.08910</td><td>2.399</td><td>16.872784</td><td>1446</td><td>11.61</td><td>17.438135</td><td>2791</td><td>15.14</td><td>16.133436</td><td>1.304699</td><td>--</td><td>--</td><td>--</td><td>--</td><td>0</td><td>0</td><td>0</td><td>1</td><td>0</td><td>0</td><td>0</td><td>0</td><td>1</td><td>1</td><td>0</td><td>5239.5</td><td>4.7557</td><td>-1.6485</td><td>854.7742</td><td>0.8959</td><td>--</td><td>159160829250502035</td><td>--</td><td>--</td><td></td><td>URAT1-664159587</td><td></td><td>--</td><td>NC97029992</td><td></td><td>05314201+4238040</td><td></td><td>82.92505206992</td><td>42.63445549982</td><td>82.92505599576,42.63444435512,1442.7932477276004</td></tr>\n",
       "<tr><td>0.999843</td><td>80.77257156600</td><td>43.71765052977</td><td>207419810564056576</td><td>0.0477</td><td>0.0317</td><td>0.8324</td><td>0.0512</td><td>11.354</td><td>5.051</td><td>0.066</td><td>-10.168</td><td>0.046</td><td>0.980</td><td>5242.79760</td><td>2.511</td><td>16.388458</td><td>2220</td><td>7.186</td><td>16.972610</td><td>4353</td><td>10.3</td><td>15.650847</td><td>1.321763</td><td>--</td><td>--</td><td>--</td><td>--</td><td>0</td><td>0</td><td>0</td><td>1</td><td>0</td><td>0</td><td>0</td><td>0</td><td>1</td><td>1</td><td>0</td><td>5074.5</td><td>4.5784</td><td>-0.8417</td><td>869.9177</td><td>0.7604</td><td>--</td><td>160460807725371841</td><td>--</td><td>--</td><td></td><td></td><td></td><td>--</td><td>NCAD020071</td><td></td><td>05230540+4343036</td><td></td><td>80.77254050563</td><td>43.71769572180</td><td>80.772571566,43.71765052977,1201.3455069678037</td></tr>\n",
       "<tr><td>0.999868</td><td>81.72624207116</td><td>41.93625505474</td><td>195345905880121856</td><td>0.0447</td><td>0.0354</td><td>0.3735</td><td>0.0503</td><td>1.692</td><td>0.962</td><td>0.059</td><td>-1.392</td><td>0.046</td><td>0.970</td><td>5782.18211</td><td>3.563</td><td>16.282137</td><td>2915</td><td>13.73</td><td>16.677048</td><td>4127</td><td>7.984</td><td>15.708714</td><td>0.968334</td><td>--</td><td>--</td><td>--</td><td>--</td><td>0</td><td>0</td><td>0</td><td>1</td><td>0</td><td>0</td><td>0</td><td>0</td><td>1</td><td>1</td><td>0</td><td>5935.8</td><td>4.6657</td><td>-1.1127</td><td>1197.5209</td><td>0.5391</td><td>--</td><td>158320817262194145</td><td>--</td><td>--</td><td></td><td>URAT1-660149211</td><td>J052654.28+415610.5</td><td>--</td><td>NCAC022278</td><td></td><td>05265429+4156105</td><td></td><td>81.72623632607</td><td>41.93626124359</td><td>81.72624207116,41.93625505474,2677.376171352075</td></tr>\n",
       "<tr><td>0.999932</td><td>82.01202819471</td><td>43.89292908720</td><td>207764236879582080</td><td>0.0358</td><td>0.0235</td><td>0.3682</td><td>0.0447</td><td>1.594</td><td>-0.946</td><td>0.053</td><td>-1.284</td><td>0.047</td><td>1.026</td><td>7074.67574</td><td>2.534</td><td>16.063100</td><td>3382</td><td>8.392</td><td>16.515568</td><td>5356</td><td>10.26</td><td>15.425796</td><td>1.089772</td><td>--</td><td>--</td><td>--</td><td>--</td><td>0</td><td>0</td><td>0</td><td>1</td><td>0</td><td>0</td><td>0</td><td>0</td><td>1</td><td>1</td><td>0</td><td>7202.2</td><td>4.1533</td><td>-1.5938</td><td>2139.7183</td><td>1.4871</td><td>--</td><td>160670820120332170</td><td>--</td><td>--</td><td></td><td>URAT1-670156589</td><td></td><td>--</td><td></td><td></td><td>05280288+4353345</td><td></td><td>82.01203402682</td><td>43.89293479175</td><td>82.01202819471,43.8929290872,2715.91526344378</td></tr>\n",
       "<tr><td>0.999945</td><td>80.33216568084</td><td>43.26310989425</td><td>207339099540105728</td><td>0.0475</td><td>0.0329</td><td>1.2741</td><td>0.0565</td><td>16.139</td><td>-13.055</td><td>0.075</td><td>-9.488</td><td>0.053</td><td>1.012</td><td>4480.24519</td><td>2.214</td><td>16.559113</td><td>1554</td><td>9.708</td><td>17.359842</td><td>4212</td><td>15.17</td><td>15.686708</td><td>1.673134</td><td>--</td><td>--</td><td>--</td><td>--</td><td>0</td><td>0</td><td>0</td><td>1</td><td>0</td><td>0</td><td>0</td><td>0</td><td>1</td><td>1</td><td>0</td><td>4213.4</td><td>4.6658</td><td>-0.0131</td><td>588.2989</td><td>0.2321</td><td>--</td><td>159910803321856409</td><td>--</td><td>--</td><td></td><td>URAT1-667154583</td><td>J052119.72+431547.2</td><td>--</td><td>NCAD047227</td><td></td><td>05211974+4315473</td><td></td><td>80.33224536094</td><td>43.26315206506</td><td>80.33216568084,43.26310989425,784.8677497841612</td></tr>\n",
       "<tr><td>0.999981</td><td>82.22957859177</td><td>43.83161064878</td><td>195752175424670336</td><td>0.0164</td><td>0.0111</td><td>1.0045</td><td>0.0204</td><td>8.319</td><td>-0.515</td><td>0.022</td><td>-8.303</td><td>0.017</td><td>0.988</td><td>37478.01897</td><td>6.874</td><td>14.252925</td><td>1.861e+04</td><td>17.05</td><td>14.664256</td><td>2.7e+04</td><td>14.41</td><td>13.669641</td><td>0.994615</td><td>-4.74</td><td>3.00</td><td>--</td><td>13.416078</td><td>0</td><td>0</td><td>0</td><td>1</td><td>1</td><td>0</td><td>0</td><td>0</td><td>1</td><td>1</td><td>0</td><td>5857.9</td><td>4.1993</td><td>-0.2190</td><td>860.1008</td><td>0.5543</td><td>--</td><td>160590822295928590</td><td>--</td><td>--</td><td></td><td>URAT1-670157204</td><td>J052855.09+434953.9</td><td>1020314</td><td>NC96000412</td><td></td><td>05285509+4349540</td><td></td><td>82.22958176593</td><td>43.83164755015</td><td>82.22957859177,43.83161064878,995.5201592832256</td></tr>\n",
       "</table></div>"
      ],
      "text/plain": [
       "<Table length=14334>\n",
       "   _r        RA_ICRS     ...                    SkyCoord1                    \n",
       "               deg       ...                    deg,deg,pc                   \n",
       "float64      float64     ...                     SkyCoord                    \n",
       "-------- --------------- ... ------------------------------------------------\n",
       "0.008503  81.63654871254 ...  81.63654871254,42.9323628633,2095.9966464053655\n",
       "0.010488  81.63455124943 ... 81.63455124943,42.94115149629,1530.6903413439459\n",
       "0.015768  81.60423028846 ...  81.60423028846,42.92918404038,2981.514609421586\n",
       "0.019693  81.59811476243 ...  81.59811476243,42.93303518976,1897.533206831119\n",
       "0.020854  81.61260055545 ...   81.61260055545,42.9520998889,2886.002886002886\n",
       "0.021120  81.61419477478 ...  81.61419477478,42.91374869975,523.8893545683151\n",
       "0.024166  81.59395892628 ...  81.59395892628,42.9251351059,2458.2104228121925\n",
       "0.025522  81.59022411522 ...  81.59022411522,42.93499941506,564.2703983749012\n",
       "0.030213  81.61522634524 ... 81.61522634524,42.96268042494,1909.1256204658262\n",
       "     ...             ... ...                                              ...\n",
       "0.999697  82.22704128716 ...  82.22704128716,43.83219630216,955.5661729574772\n",
       "0.999709  80.32165865417 ...   80.32165865417,43.23891224685,897.666068222621\n",
       "0.999731  81.40824700842 ...  81.40824700842,41.94647738482,1839.249586168843\n",
       "0.999763  82.40984846731 ...  82.40984846731,43.75416160422,620.1550387596899\n",
       "0.999836  82.92505599576 ... 82.92505599576,42.63444435512,1442.7932477276004\n",
       "0.999843  80.77257156600 ...   80.772571566,43.71765052977,1201.3455069678037\n",
       "0.999868  81.72624207116 ...  81.72624207116,41.93625505474,2677.376171352075\n",
       "0.999932  82.01202819471 ...    82.01202819471,43.8929290872,2715.91526344378\n",
       "0.999945  80.33216568084 ...  80.33216568084,43.26310989425,784.8677497841612\n",
       "0.999981  82.22957859177 ...  82.22957859177,43.83161064878,995.5201592832256"
      ]
     },
     "execution_count": 31,
     "metadata": {},
     "output_type": "execute_result"
    }
   ],
   "source": [
    "coord = SkyCoord(ra=30,dec=2,unit=u.deg)\n",
    "coord = SkyCoord.from_name(\"SNR G166.0+04.3\")\n",
    "radius = 1*u.deg\n",
    "searchDR3(coord, radius)"
   ]
  }
 ],
 "metadata": {
  "kernelspec": {
   "display_name": "Python 3",
   "language": "python",
   "name": "python3"
  },
  "language_info": {
   "codemirror_mode": {
    "name": "ipython",
    "version": 3
   },
   "file_extension": ".py",
   "mimetype": "text/x-python",
   "name": "python",
   "nbconvert_exporter": "python",
   "pygments_lexer": "ipython3",
   "version": "3.12.3"
  }
 },
 "nbformat": 4,
 "nbformat_minor": 2
}
