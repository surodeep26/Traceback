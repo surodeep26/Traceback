{
 "cells": [
  {
   "cell_type": "code",
   "execution_count": 11,
   "metadata": {},
   "outputs": [],
   "source": [
    "%run queries"
   ]
  },
  {
   "cell_type": "code",
   "execution_count": 22,
   "metadata": {},
   "outputs": [
    {
     "name": "stdout",
     "output_type": "stream",
     "text": [
      "Searching in Gaia DR3 I/355/gaiadr3 1.0 deg around (<Longitude 81.625 deg>, <Latitude 42.9333333 deg>, <Quantity 1.>)\n",
      "found 14,334 sources in 1.54 seconds\n",
      "Searching in Gaia DR3 distances I/352/gedr3dis 1.0 deg around (<Longitude 81.625 deg>, <Latitude 42.9333333 deg>, <Quantity 1.>)\n",
      "found 130,096 sources in 2.58 seconds\n",
      "Starting merge of DR3 and distance catalog data\n",
      "14,334 sources found by merging in 0.14 seconds\n"
     ]
    }
   ],
   "source": [
    "coord = SkyCoord.from_name(\"SNR G166.0+04.3\")\n",
    "radius = 1*u.deg\n",
    "# stars_in_region = get_stars_in_region(coord, radius)\n",
    "stars_in_region = Table.read('stars_near_g166.ecsv', format='ascii.ecsv')\n",
    "stars_in_region"
   ]
  }
 ],
 "metadata": {
  "kernelspec": {
   "display_name": "Python 3",
   "language": "python",
   "name": "python3"
  },
  "language_info": {
   "codemirror_mode": {
    "name": "ipython",
    "version": 3
   },
   "file_extension": ".py",
   "mimetype": "text/x-python",
   "name": "python",
   "nbconvert_exporter": "python",
   "pygments_lexer": "ipython3",
   "version": "3.12.3"
  }
 },
 "nbformat": 4,
 "nbformat_minor": 2
}
