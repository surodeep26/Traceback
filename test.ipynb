{
 "cells": [
  {
   "cell_type": "code",
   "execution_count": 6,
   "metadata": {},
   "outputs": [],
   "source": [
    "%run functions\n",
    "%run classes"
   ]
  },
  {
   "cell_type": "code",
   "execution_count": 7,
   "metadata": {},
   "outputs": [
    {
     "ename": "NameError",
     "evalue": "name 'functions' is not defined",
     "output_type": "error",
     "traceback": [
      "\u001b[0;31m---------------------------------------------------------------------------\u001b[0m",
      "\u001b[0;31mNameError\u001b[0m                                 Traceback (most recent call last)",
      "Cell \u001b[0;32mIn[7], line 1\u001b[0m\n\u001b[0;32m----> 1\u001b[0m \u001b[43mfunctions\u001b[49m\u001b[38;5;241m.\u001b[39mget_catalog(\u001b[38;5;124m\"\u001b[39m\u001b[38;5;124mVII/272/snrs\u001b[39m\u001b[38;5;124m\"\u001b[39m)\n",
      "\u001b[0;31mNameError\u001b[0m: name 'functions' is not defined"
     ]
    }
   ],
   "source": [
    "functions.get_catalog(\"VII/272/snrs\")"
   ]
  },
  {
   "cell_type": "code",
   "execution_count": 17,
   "metadata": {},
   "outputs": [
    {
     "name": "stdout",
     "output_type": "stream",
     "text": [
      "Searching in Gaia DR3 I/355/gaiadr3 0.1 deg around (<Longitude 81.625 deg>, <Latitude 42.9333333 deg>, <Quantity 1.>)\n",
      "found 1,537 sources in 0.17 seconds\n",
      "Searching in Gaia DR3 distances I/352/gedr3dis 0.1 deg around (<Longitude 81.625 deg>, <Latitude 42.9333333 deg>, <Quantity 1.>)\n",
      "found 1,306 sources in 0.03 seconds\n",
      "Starting merge of DR3 and distance catalog data\n",
      "1,306 sources found by merging in 0.03 seconds\n"
     ]
    },
    {
     "data": {
      "text/html": [
       "<div><i>Table length=1306</i>\n",
       "<table id=\"table129873815776880\" class=\"table-striped table-bordered table-condensed\">\n",
       "<thead><tr><th>RA_ICRS_1</th><th>DE_ICRS_1</th><th>e_RA_ICRS</th><th>e_DE_ICRS</th><th>_r_1</th><th>HIP</th><th>TYC2</th><th>Source</th><th>rgeo</th><th>Plx</th><th>e_Plx</th><th>pmRA</th><th>pmDE</th><th>e_pmRA</th><th>e_pmDE</th><th>RUWE</th><th>Teff</th><th>logg</th><th>Gmag</th><th>BP-RP</th><th>BPmag</th><th>RPmag</th><th>RV</th><th>e_RV</th><th>b_rgeo</th><th>B_rgeo</th><th>FG</th><th>e_FG</th><th>FBP</th><th>e_FBP</th><th>FRP</th><th>e_FRP</th><th>RAVE5</th><th>RAVE6</th><th>e_Gmag</th><th>e_BPmag</th><th>e_RPmag</th><th>e_BP-RP</th><th>SkyCoord</th></tr></thead>\n",
       "<thead><tr><th>deg</th><th>deg</th><th>mas</th><th>mas</th><th></th><th></th><th></th><th></th><th>pc</th><th>mas</th><th>mas</th><th>mas / yr</th><th>mas / yr</th><th>mas / yr</th><th>mas / yr</th><th></th><th>K</th><th>log(cm.s**-2)</th><th>mag</th><th>mag</th><th>mag</th><th>mag</th><th>km / s</th><th>km / s</th><th>pc</th><th>pc</th><th></th><th></th><th></th><th></th><th></th><th></th><th></th><th></th><th></th><th></th><th></th><th></th><th>deg,deg,pc</th></tr></thead>\n",
       "<thead><tr><th>float64</th><th>float64</th><th>float64</th><th>float64</th><th>float64</th><th>int32</th><th>str12</th><th>int64</th><th>float64</th><th>float64</th><th>float32</th><th>float64</th><th>float64</th><th>float32</th><th>float32</th><th>float64</th><th>float64</th><th>float64</th><th>float64</th><th>float64</th><th>float64</th><th>float64</th><th>float64</th><th>float32</th><th>float64</th><th>float64</th><th>float64</th><th>float32</th><th>float32</th><th>float32</th><th>float32</th><th>float32</th><th>str16</th><th>str21</th><th>float64</th><th>float32</th><th>float32</th><th>float32</th><th>SkyCoord</th></tr></thead>\n",
       "<tr><td>81.65634289596</td><td>43.01971193381</td><td>0.0158</td><td>0.0105</td><td>0.089374</td><td>--</td><td>2917-195-1</td><td>195645832035222400</td><td>3955.39429000</td><td>0.2262</td><td>0.0176</td><td>0.138</td><td>0.311</td><td>0.024</td><td>0.017</td><td>0.977</td><td>18496.6</td><td>3.5290</td><td>10.021754</td><td>0.412804</td><td>10.157121</td><td>9.744317</td><td>--</td><td>--</td><td>3735.79517000</td><td>4203.52783000</td><td>1846057.12511</td><td>552.7</td><td>1.182e+06</td><td>484.6</td><td>1.003e+06</td><td>250.5</td><td></td><td></td><td>0.002774</td><td>0.002825</td><td>0.003789</td><td>0.006615</td><td>81.65634289596,43.01971193381,3955.39429</td></tr>\n",
       "<tr><td>81.63654871254</td><td>42.93236286330</td><td>0.0532</td><td>0.0341</td><td>0.008503</td><td>--</td><td></td><td>195633252072133248</td><td>1932.55530000</td><td>0.4771</td><td>0.0632</td><td>0.714</td><td>-4.527</td><td>0.077</td><td>0.056</td><td>1.032</td><td>3386.0</td><td>0.1079</td><td>10.106715</td><td>4.957509</td><td>13.582963</td><td>8.625454</td><td>--</td><td>--</td><td>1704.58374000</td><td>2172.37354000</td><td>1707107.39292</td><td>1.32e+04</td><td>5.038e+04</td><td>579.9</td><td>2.812e+06</td><td>5.333e+04</td><td></td><td></td><td>0.008838</td><td>0.01281</td><td>0.02094</td><td>0.03374</td><td>81.63654871254,42.9323628633,1932.5553</td></tr>\n",
       "<tr><td>81.54287877955</td><td>42.90791647932</td><td>0.0132</td><td>0.0086</td><td>0.065292</td><td>--</td><td>2917-979-1</td><td>195643426853578496</td><td>379.09021000</td><td>2.6092</td><td>0.0157</td><td>10.913</td><td>-16.653</td><td>0.020</td><td>0.014</td><td>0.906</td><td>7272.8</td><td>4.1018</td><td>10.640102</td><td>0.495246</td><td>10.820108</td><td>10.324863</td><td>10.84</td><td>0.59</td><td>377.00277700</td><td>382.01614400</td><td>1044493.60749</td><td>169.2</td><td>6.418e+05</td><td>234.2</td><td>5.878e+05</td><td>122.2</td><td></td><td></td><td>0.002761</td><td>0.002818</td><td>0.003786</td><td>0.006604</td><td>81.54287877955,42.90791647932,379.09021</td></tr>\n",
       "<tr><td>81.74442648008</td><td>42.89247674300</td><td>0.0196</td><td>0.0131</td><td>0.096530</td><td>--</td><td></td><td>195635283595558528</td><td>3645.10303000</td><td>0.2297</td><td>0.0230</td><td>0.759</td><td>-1.274</td><td>0.029</td><td>0.021</td><td>1.098</td><td>--</td><td>--</td><td>10.881021</td><td>2.595309</td><td>12.315865</td><td>9.720556</td><td>-43.50</td><td>0.16</td><td>3359.73511000</td><td>3876.39062000</td><td>836638.84842</td><td>402.1</td><td>1.618e+05</td><td>317.3</td><td>1.026e+06</td><td>956.2</td><td></td><td></td><td>0.002804</td><td>0.00351</td><td>0.003913</td><td>0.007422</td><td>81.74442648008,42.892476743,3645.10303</td></tr>\n",
       "<tr><td>81.61212992413</td><td>42.85893890382</td><td>0.3511</td><td>0.2351</td><td>0.074985</td><td>--</td><td>2917-255-1</td><td>195631912045420928</td><td>8265.48535000</td><td>-4.0614</td><td>0.4257</td><td>0.771</td><td>-7.993</td><td>0.487</td><td>0.375</td><td>26.430</td><td>--</td><td>--</td><td>11.865926</td><td>0.607309</td><td>12.055319</td><td>11.448009</td><td>-3.48</td><td>6.17</td><td>6020.50977000</td><td>10381.69430000</td><td>337735.31782</td><td>480.9</td><td>2.057e+05</td><td>113.1</td><td>2.089e+05</td><td>59.63</td><td></td><td></td><td>0.003159</td><td>0.002853</td><td>0.003792</td><td>0.006645</td><td>81.61212992413,42.85893890382,8265.48535</td></tr>\n",
       "<tr><td>81.60376200492</td><td>42.89715707263</td><td>0.0261</td><td>0.0172</td><td>0.039376</td><td>--</td><td></td><td>195633011557048320</td><td>1776.80298000</td><td>0.5305</td><td>0.0312</td><td>0.312</td><td>-2.730</td><td>0.035</td><td>0.027</td><td>1.984</td><td>8610.8</td><td>3.4085</td><td>12.093207</td><td>0.656010</td><td>12.339059</td><td>11.683049</td><td>-30.23</td><td>11.36</td><td>1682.08032000</td><td>1874.44702000</td><td>273945.20827</td><td>49.59</td><td>1.584e+05</td><td>96.27</td><td>1.682e+05</td><td>70.2</td><td></td><td></td><td>0.002762</td><td>0.002867</td><td>0.003806</td><td>0.006674</td><td>81.60376200492,42.89715707263,1776.80298</td></tr>\n",
       "<tr><td>81.57807306293</td><td>42.97745350225</td><td>0.0133</td><td>0.0091</td><td>0.055921</td><td>--</td><td></td><td>195646033897888128</td><td>579.98968500</td><td>1.6973</td><td>0.0159</td><td>4.635</td><td>-0.790</td><td>0.019</td><td>0.014</td><td>1.117</td><td>6432.6</td><td>4.0543</td><td>12.194145</td><td>0.684598</td><td>12.456781</td><td>11.772183</td><td>34.14</td><td>0.96</td><td>574.77752700</td><td>585.30139200</td><td>249625.23186</td><td>40.29</td><td>1.421e+05</td><td>72.64</td><td>1.55e+05</td><td>63.58</td><td></td><td></td><td>0.002761</td><td>0.002845</td><td>0.003806</td><td>0.00665</td><td>81.57807306293,42.97745350225,579.989685</td></tr>\n",
       "<tr><td>81.70340572272</td><td>43.01124953584</td><td>0.0161</td><td>0.0105</td><td>0.096758</td><td>--</td><td>2917-1415-1</td><td>195645625876786048</td><td>2642.80322000</td><td>0.3504</td><td>0.0183</td><td>0.616</td><td>-1.721</td><td>0.027</td><td>0.018</td><td>1.208</td><td>--</td><td>--</td><td>12.275402</td><td>0.394869</td><td>12.413307</td><td>12.018438</td><td>-20.90</td><td>15.54</td><td>2505.28516000</td><td>2817.99219000</td><td>231625.22502</td><td>48.56</td><td>1.479e+05</td><td>58.81</td><td>1.235e+05</td><td>36.88</td><td></td><td></td><td>0.002765</td><td>0.002823</td><td>0.003793</td><td>0.006617</td><td>81.70340572272,43.01124953584,2642.80322</td></tr>\n",
       "<tr><td>81.69365993817</td><td>42.97649346021</td><td>0.0119</td><td>0.0079</td><td>0.066240</td><td>--</td><td></td><td>195633767468208000</td><td>888.83630400</td><td>1.0856</td><td>0.0141</td><td>-0.304</td><td>-1.084</td><td>0.019</td><td>0.014</td><td>1.018</td><td>--</td><td>--</td><td>13.152106</td><td>0.886018</td><td>13.506899</td><td>12.620881</td><td>-46.08</td><td>1.84</td><td>879.39325000</td><td>898.87005600</td><td>103300.89343</td><td>21.55</td><td>5.403e+04</td><td>47.76</td><td>7.093e+04</td><td>26.24</td><td></td><td></td><td>0.002765</td><td>0.002951</td><td>0.003801</td><td>0.006751</td><td>81.69365993817,42.97649346021,888.836304</td></tr>\n",
       "<tr><td>...</td><td>...</td><td>...</td><td>...</td><td>...</td><td>...</td><td>...</td><td>...</td><td>...</td><td>...</td><td>...</td><td>...</td><td>...</td><td>...</td><td>...</td><td>...</td><td>...</td><td>...</td><td>...</td><td>...</td><td>...</td><td>...</td><td>...</td><td>...</td><td>...</td><td>...</td><td>...</td><td>...</td><td>...</td><td>...</td><td>...</td><td>...</td><td>...</td><td>...</td><td>...</td><td>...</td><td>...</td><td>...</td><td>...</td></tr>\n",
       "<tr><td>81.73175517581</td><td>42.93624756645</td><td>1.2525</td><td>0.7440</td><td>0.078206</td><td>--</td><td></td><td>195632706613814656</td><td>836.56835900</td><td>3.7811</td><td>1.4234</td><td>-0.518</td><td>-3.235</td><td>2.387</td><td>1.350</td><td>0.972</td><td>--</td><td>--</td><td>20.745407</td><td>1.841196</td><td>21.274307</td><td>19.433111</td><td>--</td><td>--</td><td>427.22503700</td><td>1320.50696000</td><td>94.79475</td><td>0.9359</td><td>42.24</td><td>6.939</td><td>133.6</td><td>10.59</td><td></td><td></td><td>0.01107</td><td>0.1784</td><td>0.08611</td><td>0.2645</td><td>81.73175517581,42.93624756645,836.568359</td></tr>\n",
       "<tr><td>81.55789641035</td><td>42.94773651925</td><td>2.1740</td><td>1.1318</td><td>0.051200</td><td>--</td><td></td><td>195645179199165824</td><td>4201.51953000</td><td>-0.6690</td><td>1.5418</td><td>0.191</td><td>-2.517</td><td>2.477</td><td>1.488</td><td>1.001</td><td>--</td><td>--</td><td>20.746706</td><td>1.412252</td><td>21.130312</td><td>19.718060</td><td>--</td><td>--</td><td>2101.60571000</td><td>6983.80811000</td><td>94.68131</td><td>0.759</td><td>48.23</td><td>6.148</td><td>102.8</td><td>6.628</td><td></td><td></td><td>0.009129</td><td>0.1384</td><td>0.07011</td><td>0.2086</td><td>81.55789641035,42.94773651925,4201.51953</td></tr>\n",
       "<tr><td>81.63595613412</td><td>42.90218732795</td><td>1.3372</td><td>0.9013</td><td>0.032156</td><td>--</td><td></td><td>195632225577149184</td><td>3092.76489000</td><td>1.2387</td><td>1.4426</td><td>-1.315</td><td>-1.048</td><td>1.557</td><td>1.391</td><td>1.105</td><td>--</td><td>--</td><td>20.770723</td><td>1.186216</td><td>21.091904</td><td>19.905687</td><td>--</td><td>--</td><td>1264.64526000</td><td>7141.69824000</td><td>92.60986</td><td>0.6956</td><td>49.96</td><td>6.712</td><td>86.47</td><td>6.839</td><td></td><td></td><td>0.008608</td><td>0.1459</td><td>0.08595</td><td>0.2318</td><td>81.63595613412,42.90218732795,3092.76489</td></tr>\n",
       "<tr><td>81.60962452200</td><td>42.83807104058</td><td>1.6343</td><td>0.9469</td><td>0.095922</td><td>--</td><td></td><td>195631744541098496</td><td>2097.43286000</td><td>4.3630</td><td>2.5340</td><td>0.668</td><td>-0.543</td><td>2.184</td><td>1.496</td><td>1.158</td><td>--</td><td>--</td><td>20.780567</td><td>1.213797</td><td>20.997107</td><td>19.783310</td><td>--</td><td>--</td><td>703.45459000</td><td>3777.79199000</td><td>91.77398</td><td>0.7498</td><td>54.52</td><td>5.388</td><td>96.79</td><td>6.119</td><td></td><td></td><td>0.009289</td><td>0.1073</td><td>0.06875</td><td>0.1761</td><td>81.609624522,42.83807104058,2097.43286</td></tr>\n",
       "<tr><td>81.63474094645</td><td>42.86031462630</td><td>1.3883</td><td>0.8663</td><td>0.073361</td><td>--</td><td></td><td>195631881980094080</td><td>3082.87476000</td><td>-0.5508</td><td>1.6167</td><td>6.517</td><td>1.667</td><td>2.205</td><td>1.448</td><td>0.987</td><td>--</td><td>--</td><td>20.782503</td><td>1.203829</td><td>21.079979</td><td>19.876150</td><td>--</td><td>--</td><td>1817.21033000</td><td>4570.31299000</td><td>91.61053</td><td>0.9084</td><td>50.52</td><td>5.995</td><td>88.86</td><td>6.565</td><td></td><td></td><td>0.01111</td><td>0.1289</td><td>0.08031</td><td>0.2092</td><td>81.63474094645,42.8603146263,3082.87476</td></tr>\n",
       "<tr><td>81.67365635514</td><td>42.96598141351</td><td>1.9010</td><td>1.0995</td><td>0.048313</td><td>--</td><td></td><td>195633668686452608</td><td>2917.75244000</td><td>2.2528</td><td>1.9925</td><td>9.146</td><td>-11.865</td><td>2.349</td><td>1.526</td><td>1.040</td><td>--</td><td>--</td><td>20.794888</td><td>2.287287</td><td>21.798680</td><td>19.511393</td><td>--</td><td>--</td><td>1301.87219000</td><td>5050.74365000</td><td>90.57156</td><td>0.8782</td><td>26.06</td><td>9.543</td><td>124.3</td><td>9.247</td><td></td><td></td><td>0.01088</td><td>0.3976</td><td>0.08084</td><td>0.4785</td><td>81.67365635514,42.96598141351,2917.75244</td></tr>\n",
       "<tr><td>81.68799749312</td><td>42.87194744440</td><td>1.6447</td><td>0.9951</td><td>0.076788</td><td>--</td><td></td><td>195629335062060928</td><td>2829.90234000</td><td>0.5305</td><td>1.7122</td><td>2.318</td><td>-2.721</td><td>2.377</td><td>1.422</td><td>0.950</td><td>--</td><td>--</td><td>20.795456</td><td>1.004107</td><td>20.517399</td><td>19.513292</td><td>--</td><td>--</td><td>1453.67871000</td><td>4282.10156000</td><td>90.52420</td><td>1.074</td><td>84.81</td><td>16.24</td><td>124.1</td><td>10.54</td><td></td><td></td><td>0.01318</td><td>0.2079</td><td>0.09228</td><td>0.3002</td><td>81.68799749312,42.8719474444,2829.90234</td></tr>\n",
       "<tr><td>81.66407889234</td><td>43.00125720702</td><td>1.4665</td><td>0.8478</td><td>0.073700</td><td>--</td><td></td><td>195645557155930880</td><td>2720.88062000</td><td>1.3164</td><td>1.5402</td><td>2.852</td><td>-1.525</td><td>2.279</td><td>1.333</td><td>1.102</td><td>--</td><td>--</td><td>20.812067</td><td>--</td><td>--</td><td>--</td><td>--</td><td>--</td><td>1298.30090000</td><td>4806.50586000</td><td>89.14973</td><td>0.8906</td><td>--</td><td>--</td><td>--</td><td>--</td><td></td><td></td><td>0.01119</td><td>--</td><td>--</td><td>--</td><td>81.66407889234,43.00125720702,2720.88062</td></tr>\n",
       "<tr><td>81.50570612776</td><td>42.97649615369</td><td>1.2183</td><td>0.8415</td><td>0.097405</td><td>--</td><td></td><td>195644835601431680</td><td>1928.70435000</td><td>2.9773</td><td>1.8999</td><td>-0.499</td><td>0.554</td><td>3.109</td><td>2.399</td><td>1.025</td><td>--</td><td>--</td><td>20.822280</td><td>1.652290</td><td>21.788439</td><td>20.136148</td><td>--</td><td>--</td><td>789.44116200</td><td>3280.25342000</td><td>88.31501</td><td>0.8354</td><td>26.31</td><td>5.487</td><td>69.94</td><td>8.291</td><td></td><td></td><td>0.01063</td><td>0.2265</td><td>0.1288</td><td>0.3552</td><td>81.50570612776,42.97649615369,1928.70435</td></tr>\n",
       "<tr><td>81.62549424186</td><td>42.93947416778</td><td>1.0005</td><td>0.5356</td><td>0.006156</td><td>--</td><td></td><td>195633325087889280</td><td>3823.69312000</td><td>-0.3122</td><td>0.5138</td><td>-1.137</td><td>-0.437</td><td>1.163</td><td>0.652</td><td>1.030</td><td>--</td><td>--</td><td>--</td><td>--</td><td>--</td><td>15.692224</td><td>--</td><td>--</td><td>2210.44775000</td><td>6133.81348000</td><td>--</td><td>--</td><td>--</td><td>--</td><td>4190</td><td>91.63</td><td></td><td></td><td>--</td><td>--</td><td>0.02404</td><td>--</td><td>81.62549424186,42.93947416778,3823.69312</td></tr>\n",
       "</table></div>"
      ],
      "text/plain": [
       "<Table length=1306>\n",
       "   RA_ICRS_1       DE_ICRS_1    ...                 SkyCoord                \n",
       "      deg             deg       ...                deg,deg,pc               \n",
       "    float64         float64     ...                 SkyCoord                \n",
       "--------------- --------------- ... ----------------------------------------\n",
       " 81.65634289596  43.01971193381 ... 81.65634289596,43.01971193381,3955.39429\n",
       " 81.63654871254  42.93236286330 ...   81.63654871254,42.9323628633,1932.5553\n",
       " 81.54287877955  42.90791647932 ...  81.54287877955,42.90791647932,379.09021\n",
       " 81.74442648008  42.89247674300 ...   81.74442648008,42.892476743,3645.10303\n",
       " 81.61212992413  42.85893890382 ... 81.61212992413,42.85893890382,8265.48535\n",
       " 81.60376200492  42.89715707263 ... 81.60376200492,42.89715707263,1776.80298\n",
       " 81.57807306293  42.97745350225 ... 81.57807306293,42.97745350225,579.989685\n",
       " 81.70340572272  43.01124953584 ... 81.70340572272,43.01124953584,2642.80322\n",
       " 81.69365993817  42.97649346021 ... 81.69365993817,42.97649346021,888.836304\n",
       "            ...             ... ...                                      ...\n",
       " 81.73175517581  42.93624756645 ... 81.73175517581,42.93624756645,836.568359\n",
       " 81.55789641035  42.94773651925 ... 81.55789641035,42.94773651925,4201.51953\n",
       " 81.63595613412  42.90218732795 ... 81.63595613412,42.90218732795,3092.76489\n",
       " 81.60962452200  42.83807104058 ...   81.609624522,42.83807104058,2097.43286\n",
       " 81.63474094645  42.86031462630 ...  81.63474094645,42.8603146263,3082.87476\n",
       " 81.67365635514  42.96598141351 ... 81.67365635514,42.96598141351,2917.75244\n",
       " 81.68799749312  42.87194744440 ...  81.68799749312,42.8719474444,2829.90234\n",
       " 81.66407889234  43.00125720702 ... 81.66407889234,43.00125720702,2720.88062\n",
       " 81.50570612776  42.97649615369 ... 81.50570612776,42.97649615369,1928.70435\n",
       " 81.62549424186  42.93947416778 ... 81.62549424186,42.93947416778,3823.69312"
      ]
     },
     "execution_count": 17,
     "metadata": {},
     "output_type": "execute_result"
    }
   ],
   "source": [
    "coord = SkyCoord.from_name(\"SNR G166.0+04.3\")\n",
    "radius = 0.1*u.deg\n",
    "stars_in_region = get_stars_in_region(coord, radius)\n",
    "# stars_in_region = Table.read('stars_near_g166.ecsv', format='ascii.ecsv')\n",
    "stars_in_region"
   ]
  },
  {
   "cell_type": "code",
   "execution_count": 5,
   "metadata": {},
   "outputs": [],
   "source": []
  },
  {
   "cell_type": "code",
   "execution_count": 24,
   "metadata": {},
   "outputs": [
    {
     "name": "stdout",
     "output_type": "stream",
     "text": [
      "Searching in Gaia DR3 I/355/gaiadr3 1.0 deg around (<Longitude 81.625 deg>, <Latitude 42.9333333 deg>, <Quantity 1.>)\n"
     ]
    },
    {
     "name": "stderr",
     "output_type": "stream",
     "text": [
      "/usr/lib/python3/dist-packages/astropy/units/equivalencies.py:100: RuntimeWarning: divide by zero encountered in divide\n",
      "  d = 1 / x\n"
     ]
    },
    {
     "name": "stdout",
     "output_type": "stream",
     "text": [
      "found 150,020 sources in 51.95 seconds\n",
      "Searching in Gaia DR3 distances I/352/gedr3dis 1.0 deg around (<Longitude 81.625 deg>, <Latitude 42.9333333 deg>, <Quantity 1.>)\n",
      "found 130,096 sources in 2.33 seconds\n",
      "Starting merge of DR3 and distance catalog data\n",
      "130,096 sources found by merging in 0.39 seconds\n"
     ]
    }
   ],
   "source": [
    "sir = classes(coord, radius).stars"
   ]
  },
  {
   "cell_type": "code",
   "execution_count": 28,
   "metadata": {},
   "outputs": [],
   "source": [
    "sir.write('stars_near_g166.ecsv', format=\"ascii.ecsv\", overwrite=True)"
   ]
  },
  {
   "cell_type": "code",
   "execution_count": 27,
   "metadata": {},
   "outputs": [
    {
     "data": {
      "text/html": [
       "<div><i>Table length=1</i>\n",
       "<table id=\"table124319834319200\" class=\"table-striped table-bordered table-condensed\">\n",
       "<thead><tr><th>RA_ICRS_1</th><th>DE_ICRS_1</th><th>e_RA_ICRS</th><th>e_DE_ICRS</th><th>_r_1</th><th>HIP</th><th>TYC2</th><th>Source</th><th>rgeo</th><th>Plx</th><th>e_Plx</th><th>pmRA</th><th>pmDE</th><th>e_pmRA</th><th>e_pmDE</th><th>RUWE</th><th>Teff</th><th>logg</th><th>Gmag</th><th>BP-RP</th><th>BPmag</th><th>RPmag</th><th>RV</th><th>e_RV</th><th>b_rgeo</th><th>B_rgeo</th><th>FG</th><th>e_FG</th><th>FBP</th><th>e_FBP</th><th>FRP</th><th>e_FRP</th><th>RAVE5</th><th>RAVE6</th><th>e_Gmag</th><th>e_BPmag</th><th>e_RPmag</th><th>e_BP-RP</th><th>SkyCoord</th></tr></thead>\n",
       "<thead><tr><th>deg</th><th>deg</th><th>mas</th><th>mas</th><th></th><th></th><th></th><th></th><th>pc</th><th>mas</th><th>mas</th><th>mas / yr</th><th>mas / yr</th><th>mas / yr</th><th>mas / yr</th><th></th><th>K</th><th>log(cm.s**-2)</th><th>mag</th><th>mag</th><th>mag</th><th>mag</th><th>km / s</th><th>km / s</th><th>pc</th><th>pc</th><th></th><th></th><th></th><th></th><th></th><th></th><th></th><th></th><th></th><th></th><th></th><th></th><th>deg,deg,pc</th></tr></thead>\n",
       "<thead><tr><th>float64</th><th>float64</th><th>float64</th><th>float64</th><th>float64</th><th>int32</th><th>str12</th><th>int64</th><th>float64</th><th>float64</th><th>float32</th><th>float64</th><th>float64</th><th>float32</th><th>float32</th><th>float64</th><th>float64</th><th>float64</th><th>float64</th><th>float64</th><th>float64</th><th>float64</th><th>float64</th><th>float32</th><th>float64</th><th>float64</th><th>float64</th><th>float32</th><th>float32</th><th>float32</th><th>float32</th><th>float32</th><th>str16</th><th>str21</th><th>float64</th><th>float32</th><th>float32</th><th>float32</th><th>SkyCoord</th></tr></thead>\n",
       "<tr><td>81.62187230463</td><td>42.93624922588</td><td>0.0429</td><td>0.0280</td><td>0.003716</td><td>--</td><td></td><td>195633320791780608</td><td>3241.66699000</td><td>0.2980</td><td>0.0489</td><td>0.846</td><td>-3.886</td><td>0.059</td><td>0.045</td><td>1.021</td><td>6518.7</td><td>4.3925</td><td>16.193027</td><td>1.071283</td><td>16.641203</td><td>15.569920</td><td>--</td><td>--</td><td>2832.63281000</td><td>3757.81396000</td><td>6276.76299</td><td>2.736</td><td>3013</td><td>13.36</td><td>4690</td><td>11.55</td><td></td><td></td><td>0.002796</td><td>0.005564</td><td>0.004629</td><td>0.01019</td><td>81.62187230463,42.93624922588,3241.66699</td></tr>\n",
       "</table></div>"
      ],
      "text/plain": [
       "<Table length=1>\n",
       "   RA_ICRS_1       DE_ICRS_1    ...                 SkyCoord                \n",
       "      deg             deg       ...                deg,deg,pc               \n",
       "    float64         float64     ...                 SkyCoord                \n",
       "--------------- --------------- ... ----------------------------------------\n",
       " 81.62187230463  42.93624922588 ... 81.62187230463,42.93624922588,3241.66699"
      ]
     },
     "execution_count": 27,
     "metadata": {},
     "output_type": "execute_result"
    }
   ],
   "source": [
    "sir[sir['Source']==195633320791780608]\n"
   ]
  },
  {
   "cell_type": "code",
   "execution_count": 26,
   "metadata": {},
   "outputs": [
    {
     "data": {
      "text/html": [
       "<div><i>Table length=1</i>\n",
       "<table id=\"table124319834313200\" class=\"table-striped table-bordered table-condensed\">\n",
       "<thead><tr><th>RA_ICRS_1</th><th>DE_ICRS_1</th><th>e_RA_ICRS</th><th>e_DE_ICRS</th><th>_r_1</th><th>HIP</th><th>TYC2</th><th>Source</th><th>rgeo</th><th>Plx</th><th>e_Plx</th><th>pmRA</th><th>pmDE</th><th>e_pmRA</th><th>e_pmDE</th><th>RUWE</th><th>Teff</th><th>logg</th><th>Gmag</th><th>BP-RP</th><th>BPmag</th><th>RPmag</th><th>RV</th><th>e_RV</th><th>b_rgeo</th><th>B_rgeo</th><th>FG</th><th>e_FG</th><th>FBP</th><th>e_FBP</th><th>FRP</th><th>e_FRP</th><th>RAVE5</th><th>RAVE6</th><th>e_Gmag</th><th>e_BPmag</th><th>e_RPmag</th><th>e_BP-RP</th><th>SkyCoord</th></tr></thead>\n",
       "<thead><tr><th>deg</th><th>deg</th><th>mas</th><th>mas</th><th></th><th></th><th></th><th></th><th>pc</th><th>mas</th><th>mas</th><th>mas / yr</th><th>mas / yr</th><th>mas / yr</th><th>mas / yr</th><th></th><th>K</th><th>log(cm.s**-2)</th><th>mag</th><th>mag</th><th>mag</th><th>mag</th><th>km / s</th><th>km / s</th><th>pc</th><th>pc</th><th></th><th></th><th></th><th></th><th></th><th></th><th></th><th></th><th></th><th></th><th></th><th></th><th>deg,deg,pc</th></tr></thead>\n",
       "<thead><tr><th>float64</th><th>float64</th><th>float64</th><th>float64</th><th>float64</th><th>int32</th><th>str12</th><th>int64</th><th>float64</th><th>float64</th><th>float32</th><th>float64</th><th>float64</th><th>float32</th><th>float32</th><th>float64</th><th>float64</th><th>float64</th><th>float64</th><th>float64</th><th>float64</th><th>float64</th><th>float64</th><th>float32</th><th>float64</th><th>float64</th><th>float64</th><th>float32</th><th>float32</th><th>float32</th><th>float32</th><th>float32</th><th>str16</th><th>str21</th><th>float64</th><th>float32</th><th>float32</th><th>float32</th><th>SkyCoord</th></tr></thead>\n",
       "<tr><td>81.62564389768</td><td>42.93974983019</td><td>0.0447</td><td>0.0294</td><td>0.006438</td><td>--</td><td></td><td>195633325090480896</td><td>3138.43115000</td><td>0.2922</td><td>0.0544</td><td>1.408</td><td>-2.592</td><td>0.064</td><td>0.046</td><td>1.046</td><td>6047.5</td><td>4.4779</td><td>16.263456</td><td>1.037928</td><td>16.644405</td><td>15.606478</td><td>--</td><td>--</td><td>2643.20166000</td><td>3779.71533000</td><td>5882.52580</td><td>3.53</td><td>3004</td><td>17.82</td><td>4535</td><td>16.2</td><td></td><td></td><td>0.002831</td><td>0.00702</td><td>0.005416</td><td>0.01244</td><td>81.62564389768,42.93974983019,3138.43115</td></tr>\n",
       "</table></div>"
      ],
      "text/plain": [
       "<Table length=1>\n",
       "   RA_ICRS_1       DE_ICRS_1    ...                 SkyCoord                \n",
       "      deg             deg       ...                deg,deg,pc               \n",
       "    float64         float64     ...                 SkyCoord                \n",
       "--------------- --------------- ... ----------------------------------------\n",
       " 81.62564389768  42.93974983019 ... 81.62564389768,42.93974983019,3138.43115"
      ]
     },
     "execution_count": 26,
     "metadata": {},
     "output_type": "execute_result"
    }
   ],
   "source": [
    "sir[sir['Source']==195633325090480896]"
   ]
  }
 ],
 "metadata": {
  "kernelspec": {
   "display_name": "Python 3",
   "language": "python",
   "name": "python3"
  },
  "language_info": {
   "codemirror_mode": {
    "name": "ipython",
    "version": 3
   },
   "file_extension": ".py",
   "mimetype": "text/x-python",
   "name": "python",
   "nbconvert_exporter": "python",
   "pygments_lexer": "ipython3",
   "version": "3.12.3"
  }
 },
 "nbformat": 4,
 "nbformat_minor": 2
}
