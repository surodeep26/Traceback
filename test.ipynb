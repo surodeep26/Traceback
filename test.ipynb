{
 "cells": [
  {
   "cell_type": "code",
   "execution_count": 3,
   "metadata": {},
   "outputs": [],
   "source": [
    "%run imports\n",
    "from src.functions import *\n",
    "from src.classes import *\n",
    "\n"
   ]
  },
  {
   "cell_type": "code",
   "execution_count": 2,
   "metadata": {},
   "outputs": [],
   "source": [
    "coord = SkyCoord.from_name(\"SNR G166.0+04.3\")\n",
    "radius = 1*u.deg\n",
    "# stars_in_region = get_stars_in_region(coord, radius)\n",
    "stars_in_region = Table.read('data/stars_near_g166.ecsv', format='ascii.ecsv')\n",
    "# stars_in_region\n",
    "dist_mask_u = stars_in_region['rgeo']<4.7*u.kpc\n",
    "dist_mask_l = stars_in_region['rgeo']>3*u.kpc\n",
    "ruwe_mask = stars_in_region['RUWE']<1.4\n",
    "plxq_mask = stars_in_region['Plx']/stars_in_region['e_Plx'] > 5\n",
    "sir = stars_in_region[dist_mask_l & dist_mask_u & ruwe_mask & plxq_mask]\n",
    "# sir"
   ]
  },
  {
   "cell_type": "code",
   "execution_count": 4,
   "metadata": {},
   "outputs": [
    {
     "data": {
      "text/html": [
       "<div><i>Table length=2</i>\n",
       "<table id=\"table128454961356032\" class=\"table-striped table-bordered table-condensed\">\n",
       "<thead><tr><th>TypeInput</th><th>RA</th><th>DE</th><th>Plx</th><th>e_Plx</th><th>RV</th><th>e_RV</th><th>RVdist</th><th>pmRA</th><th>e_pmRA</th><th>pmDE</th><th>e_pmDE</th><th>Source</th></tr></thead>\n",
       "<thead><tr><th>int64</th><th>str12</th><th>str12</th><th>float64</th><th>float64</th><th>float64</th><th>float64</th><th>float64</th><th>float64</th><th>float64</th><th>float64</th><th>float64</th><th>float64</th></tr></thead>\n",
       "<tr><td>1</td><td>05 26 25.573</td><td>42 57 40.320</td><td>0.36088</td><td>0.0</td><td>0.0</td><td>0.0</td><td>0.0</td><td>0.75017</td><td>0.0</td><td>-3.93651</td><td>0.0</td><td>0.0</td></tr>\n",
       "<tr><td>1</td><td>05 26 25.846</td><td>42 57 38.820</td><td>0.36088</td><td>0.0</td><td>0.0</td><td>0.0</td><td>0.0</td><td>1.42342</td><td>0.0</td><td>-2.57198</td><td>0.0</td><td>0.0</td></tr>\n",
       "</table></div>"
      ],
      "text/plain": [
       "<Table length=2>\n",
       "TypeInput      RA           DE        Plx   ...  e_pmRA   pmDE    e_pmDE  Source\n",
       "  int64      str12        str12     float64 ... float64 float64  float64 float64\n",
       "--------- ------------ ------------ ------- ... ------- -------- ------- -------\n",
       "        1 05 26 25.573 42 57 40.320 0.36088 ...     0.0 -3.93651     0.0     0.0\n",
       "        1 05 26 25.846 42 57 38.820 0.36088 ...     0.0 -2.57198     0.0     0.0"
      ]
     },
     "execution_count": 4,
     "metadata": {},
     "output_type": "execute_result"
    }
   ],
   "source": [
    "matches_file = \"/home/suro/suro_aiu/traceback/main_g166/matches/1pc.003+004\"\n",
    "best_params(matches_file)"
   ]
  },
  {
   "cell_type": "code",
   "execution_count": 28,
   "metadata": {},
   "outputs": [
    {
     "data": {
      "text/html": [
       "<div><i>Table length=1000</i>\n",
       "<table id=\"table131848112964576\" class=\"table-striped table-bordered table-condensed\">\n",
       "<thead><tr><th>time</th><th>l_1</th><th>b_1</th><th>dist_1</th><th>l_2</th><th>b_2</th><th>dist_2</th><th>sep3d</th></tr></thead>\n",
       "<thead><tr><th>yr</th><th>deg</th><th>deg</th><th>pc</th><th>deg</th><th>deg</th><th>pc</th><th>pc</th></tr></thead>\n",
       "<thead><tr><th>int64</th><th>float64</th><th>float64</th><th>float64</th><th>float64</th><th>float64</th><th>float64</th><th>float64</th></tr></thead>\n",
       "<tr><td>0</td><td>166.11239</td><td>4.27749</td><td>2771.00421</td><td>166.11101</td><td>4.28173</td><td>2771.00421</td><td>0.2157</td></tr>\n",
       "<tr><td>-100</td><td>166.11213</td><td>4.27753</td><td>2771.00421</td><td>166.11077</td><td>4.28174</td><td>2771.00421</td><td>0.2137</td></tr>\n",
       "<tr><td>-200</td><td>166.11186</td><td>4.27757</td><td>2771.00421</td><td>166.11052</td><td>4.28174</td><td>2771.00421</td><td>0.2117</td></tr>\n",
       "<tr><td>-300</td><td>166.1116</td><td>4.27762</td><td>2771.00421</td><td>166.11028</td><td>4.28175</td><td>2771.00421</td><td>0.20971</td></tr>\n",
       "<tr><td>-400</td><td>166.11134</td><td>4.27766</td><td>2771.00421</td><td>166.11004</td><td>4.28176</td><td>2771.00421</td><td>0.20771</td></tr>\n",
       "<tr><td>-500</td><td>166.11108</td><td>4.2777</td><td>2771.00421</td><td>166.1098</td><td>4.28176</td><td>2771.00421</td><td>0.20571</td></tr>\n",
       "<tr><td>-600</td><td>166.11081</td><td>4.27775</td><td>2771.00421</td><td>166.10956</td><td>4.28177</td><td>2771.00421</td><td>0.20372</td></tr>\n",
       "<tr><td>-700</td><td>166.11055</td><td>4.27779</td><td>2771.00421</td><td>166.10932</td><td>4.28178</td><td>2771.00421</td><td>0.20173</td></tr>\n",
       "<tr><td>-800</td><td>166.11029</td><td>4.27783</td><td>2771.00421</td><td>166.10908</td><td>4.28178</td><td>2771.00421</td><td>0.19973</td></tr>\n",
       "<tr><td>...</td><td>...</td><td>...</td><td>...</td><td>...</td><td>...</td><td>...</td><td>...</td></tr>\n",
       "<tr><td>-99000</td><td>165.85262</td><td>4.32029</td><td>2771.01531</td><td>165.87224</td><td>4.2883</td><td>2771.01294</td><td>1.81345</td></tr>\n",
       "<tr><td>-99100</td><td>165.85235</td><td>4.32033</td><td>2771.01533</td><td>165.872</td><td>4.28831</td><td>2771.01296</td><td>1.8155</td></tr>\n",
       "<tr><td>-99200</td><td>165.85209</td><td>4.32037</td><td>2771.01535</td><td>165.87175</td><td>4.28831</td><td>2771.01298</td><td>1.81754</td></tr>\n",
       "<tr><td>-99300</td><td>165.85183</td><td>4.32042</td><td>2771.01537</td><td>165.87151</td><td>4.28832</td><td>2771.013</td><td>1.81958</td></tr>\n",
       "<tr><td>-99400</td><td>165.85157</td><td>4.32046</td><td>2771.0154</td><td>165.87127</td><td>4.28833</td><td>2771.01301</td><td>1.82163</td></tr>\n",
       "<tr><td>-99500</td><td>165.8513</td><td>4.3205</td><td>2771.01542</td><td>165.87103</td><td>4.28833</td><td>2771.01303</td><td>1.82367</td></tr>\n",
       "<tr><td>-99600</td><td>165.85104</td><td>4.32055</td><td>2771.01544</td><td>165.87079</td><td>4.28834</td><td>2771.01305</td><td>1.82572</td></tr>\n",
       "<tr><td>-99700</td><td>165.85078</td><td>4.32059</td><td>2771.01546</td><td>165.87055</td><td>4.28835</td><td>2771.01307</td><td>1.82776</td></tr>\n",
       "<tr><td>-99800</td><td>165.85052</td><td>4.32063</td><td>2771.01549</td><td>165.87031</td><td>4.28835</td><td>2771.01309</td><td>1.8298</td></tr>\n",
       "<tr><td>-99900</td><td>165.85025</td><td>4.32068</td><td>2771.01551</td><td>165.87007</td><td>4.28836</td><td>2771.0131</td><td>1.83185</td></tr>\n",
       "</table></div>"
      ],
      "text/plain": [
       "<Table length=1000>\n",
       " time     l_1      b_1     dist_1      l_2      b_2     dist_2    sep3d \n",
       "  yr      deg      deg       pc        deg      deg       pc        pc  \n",
       "int64   float64  float64  float64    float64  float64  float64   float64\n",
       "------ --------- ------- ---------- --------- ------- ---------- -------\n",
       "     0 166.11239 4.27749 2771.00421 166.11101 4.28173 2771.00421  0.2157\n",
       "  -100 166.11213 4.27753 2771.00421 166.11077 4.28174 2771.00421  0.2137\n",
       "  -200 166.11186 4.27757 2771.00421 166.11052 4.28174 2771.00421  0.2117\n",
       "  -300  166.1116 4.27762 2771.00421 166.11028 4.28175 2771.00421 0.20971\n",
       "  -400 166.11134 4.27766 2771.00421 166.11004 4.28176 2771.00421 0.20771\n",
       "  -500 166.11108  4.2777 2771.00421  166.1098 4.28176 2771.00421 0.20571\n",
       "  -600 166.11081 4.27775 2771.00421 166.10956 4.28177 2771.00421 0.20372\n",
       "  -700 166.11055 4.27779 2771.00421 166.10932 4.28178 2771.00421 0.20173\n",
       "  -800 166.11029 4.27783 2771.00421 166.10908 4.28178 2771.00421 0.19973\n",
       "   ...       ...     ...        ...       ...     ...        ...     ...\n",
       "-99000 165.85262 4.32029 2771.01531 165.87224  4.2883 2771.01294 1.81345\n",
       "-99100 165.85235 4.32033 2771.01533   165.872 4.28831 2771.01296  1.8155\n",
       "-99200 165.85209 4.32037 2771.01535 165.87175 4.28831 2771.01298 1.81754\n",
       "-99300 165.85183 4.32042 2771.01537 165.87151 4.28832   2771.013 1.81958\n",
       "-99400 165.85157 4.32046  2771.0154 165.87127 4.28833 2771.01301 1.82163\n",
       "-99500  165.8513  4.3205 2771.01542 165.87103 4.28833 2771.01303 1.82367\n",
       "-99600 165.85104 4.32055 2771.01544 165.87079 4.28834 2771.01305 1.82572\n",
       "-99700 165.85078 4.32059 2771.01546 165.87055 4.28835 2771.01307 1.82776\n",
       "-99800 165.85052 4.32063 2771.01549 165.87031 4.28835 2771.01309  1.8298\n",
       "-99900 165.85025 4.32068 2771.01551 165.87007 4.28836  2771.0131 1.83185"
      ]
     },
     "execution_count": 28,
     "metadata": {},
     "output_type": "execute_result"
    }
   ],
   "source": [
    "traj_file = \"/home/suro/suro_aiu/traceback/main_g166/trajectories/best_match_traj\"\n",
    "table = read_trajectory_out(traj_file)"
   ]
  }
 ],
 "metadata": {
  "kernelspec": {
   "display_name": "Python 3",
   "language": "python",
   "name": "python3"
  },
  "language_info": {
   "codemirror_mode": {
    "name": "ipython",
    "version": 3
   },
   "file_extension": ".py",
   "mimetype": "text/x-python",
   "name": "python",
   "nbconvert_exporter": "python",
   "pygments_lexer": "ipython3",
   "version": "3.12.3"
  }
 },
 "nbformat": 4,
 "nbformat_minor": 2
}
