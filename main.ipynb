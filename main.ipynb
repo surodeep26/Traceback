{
 "cells": [
  {
   "cell_type": "code",
   "execution_count": 1,
   "metadata": {},
   "outputs": [],
   "source": [
    "%run imports\n",
    "from src.functions import *\n",
    "from src.classes import *\n",
    "from src.plots import *\n",
    "#195633320791780608, 195633325090480896\n"
   ]
  },
  {
   "cell_type": "code",
   "execution_count": 2,
   "metadata": {},
   "outputs": [
    {
     "name": "stdout",
     "output_type": "stream",
     "text": [
      "G166\n",
      "60 arcmin\n",
      "<SkyCoord (ICRS): (ra, dec) in deg\n",
      "    (81.625, 42.93333333)>\n"
     ]
    }
   ],
   "source": [
    "g166 = G166()\n",
    "\n",
    "# Access and print the name and SkyCoord\n",
    "print(g166.name)\n",
    "print(g166.radius)\n",
    "print(g166.SkyCoord)\n"
   ]
  },
  {
   "cell_type": "code",
   "execution_count": 3,
   "metadata": {},
   "outputs": [
    {
     "data": {
      "text/html": [
       "<div><i>Table length=1</i>\n",
       "<table id=\"table139429110115136\" class=\"table-striped table-bordered table-condensed\">\n",
       "<thead><tr><th>RA_ICRS_1</th><th>DE_ICRS_1</th><th>e_RA_ICRS</th><th>e_DE_ICRS</th><th>_r_1</th><th>HIP</th><th>TYC2</th><th>Source</th><th>rgeo</th><th>Plx</th><th>e_Plx</th><th>pmRA</th><th>pmDE</th><th>e_pmRA</th><th>e_pmDE</th><th>RUWE</th><th>Teff</th><th>logg</th><th>Gmag</th><th>BP-RP</th><th>BPmag</th><th>RPmag</th><th>RV</th><th>e_RV</th><th>b_rgeo</th><th>B_rgeo</th><th>FG</th><th>e_FG</th><th>FBP</th><th>e_FBP</th><th>FRP</th><th>e_FRP</th><th>RAVE5</th><th>RAVE6</th><th>e_Gmag</th><th>e_BPmag</th><th>e_RPmag</th><th>e_BP-RP</th><th>SkyCoord</th></tr></thead>\n",
       "<thead><tr><th>deg</th><th>deg</th><th>mas</th><th>mas</th><th></th><th></th><th></th><th></th><th>pc</th><th>mas</th><th>mas</th><th>mas / yr</th><th>mas / yr</th><th>mas / yr</th><th>mas / yr</th><th></th><th>K</th><th>log(cm.s**-2)</th><th>mag</th><th>mag</th><th>mag</th><th>mag</th><th>km / s</th><th>km / s</th><th>pc</th><th>pc</th><th></th><th></th><th></th><th></th><th></th><th></th><th></th><th></th><th></th><th></th><th></th><th></th><th>deg,deg,pc</th></tr></thead>\n",
       "<thead><tr><th>float64</th><th>float64</th><th>float64</th><th>float64</th><th>float64</th><th>int32</th><th>str12</th><th>int64</th><th>float64</th><th>float64</th><th>float32</th><th>float64</th><th>float64</th><th>float32</th><th>float32</th><th>float64</th><th>float64</th><th>float64</th><th>float64</th><th>float64</th><th>float64</th><th>float64</th><th>float64</th><th>float32</th><th>float64</th><th>float64</th><th>float64</th><th>float32</th><th>float32</th><th>float32</th><th>float32</th><th>float32</th><th>str16</th><th>str21</th><th>float64</th><th>float32</th><th>float32</th><th>float32</th><th>SkyCoord</th></tr></thead>\n",
       "<tr><td>81.62564389768</td><td>42.93974983019</td><td>0.0447</td><td>0.0294</td><td>0.0004</td><td>--</td><td></td><td>195633325090480896</td><td>3138.43115000</td><td>0.2922</td><td>0.0544</td><td>1.408</td><td>-2.592</td><td>0.064</td><td>0.046</td><td>1.046</td><td>6047.5</td><td>4.4779</td><td>16.263456</td><td>1.037928</td><td>16.644405</td><td>15.606478</td><td>--</td><td>--</td><td>2643.20166000</td><td>3779.71533000</td><td>5882.52580</td><td>3.53</td><td>3004</td><td>17.82</td><td>4535</td><td>16.2</td><td></td><td></td><td>0.002831</td><td>0.00702</td><td>0.005416</td><td>0.01244</td><td>81.62564389768,42.93974983019,3138.43115</td></tr>\n",
       "</table></div>"
      ],
      "text/plain": [
       "<Table length=1>\n",
       "   RA_ICRS_1       DE_ICRS_1    ...                 SkyCoord                \n",
       "      deg             deg       ...                deg,deg,pc               \n",
       "    float64         float64     ...                 SkyCoord                \n",
       "--------------- --------------- ... ----------------------------------------\n",
       " 81.62564389768  42.93974983019 ... 81.62564389768,42.93974983019,3138.43115"
      ]
     },
     "execution_count": 3,
     "metadata": {},
     "output_type": "execute_result"
    }
   ],
   "source": [
    "Star(195633320791780608).info\n",
    "Star(195633325090480896).info"
   ]
  },
  {
   "cell_type": "code",
   "execution_count": 3,
   "metadata": {},
   "outputs": [
    {
     "data": {
      "text/html": [
       "<div><i>Table length=4749</i>\n",
       "<table id=\"table131504396474544\" class=\"table-striped table-bordered table-condensed\">\n",
       "<thead><tr><th>RA_ICRS_1</th><th>DE_ICRS_1</th><th>e_RA_ICRS</th><th>e_DE_ICRS</th><th>_r_1</th><th>HIP</th><th>TYC2</th><th>Source</th><th>rgeo</th><th>Plx</th><th>e_Plx</th><th>pmRA</th><th>pmDE</th><th>e_pmRA</th><th>e_pmDE</th><th>RUWE</th><th>Teff</th><th>logg</th><th>Gmag</th><th>BP-RP</th><th>BPmag</th><th>RPmag</th><th>RV</th><th>e_RV</th><th>b_rgeo</th><th>B_rgeo</th><th>FG</th><th>e_FG</th><th>FBP</th><th>e_FBP</th><th>FRP</th><th>e_FRP</th><th>RAVE5</th><th>RAVE6</th><th>e_Gmag</th><th>e_BPmag</th><th>e_RPmag</th><th>e_BP-RP</th><th>SkyCoord</th></tr></thead>\n",
       "<thead><tr><th>deg</th><th>deg</th><th>mas</th><th>mas</th><th></th><th></th><th></th><th></th><th>pc</th><th>mas</th><th>mas</th><th>mas / yr</th><th>mas / yr</th><th>mas / yr</th><th>mas / yr</th><th></th><th>K</th><th>log(cm.s**-2)</th><th>mag</th><th>mag</th><th>mag</th><th>mag</th><th>km / s</th><th>km / s</th><th>pc</th><th>pc</th><th></th><th></th><th></th><th></th><th></th><th></th><th></th><th></th><th></th><th></th><th></th><th></th><th>deg,deg,pc</th></tr></thead>\n",
       "<thead><tr><th>float64</th><th>float64</th><th>float64</th><th>float64</th><th>float64</th><th>int32</th><th>str11</th><th>int64</th><th>float64</th><th>float64</th><th>float32</th><th>float64</th><th>float64</th><th>float32</th><th>float32</th><th>float64</th><th>float64</th><th>float64</th><th>float64</th><th>float64</th><th>float64</th><th>float64</th><th>float64</th><th>float32</th><th>float64</th><th>float64</th><th>float64</th><th>float32</th><th>float32</th><th>float32</th><th>float32</th><th>float32</th><th>str1</th><th>str1</th><th>float64</th><th>float32</th><th>float32</th><th>float32</th><th>SkyCoord</th></tr></thead>\n",
       "<tr><td>81.81732252743</td><td>42.29640171072</td><td>0.0209</td><td>0.0133</td><td>0.652460</td><td>25508</td><td>2917-1532-1</td><td>195365594010029440</td><td>3889.14697000</td><td>0.2263</td><td>0.0240</td><td>-0.068</td><td>-0.170</td><td>0.028</td><td>0.019</td><td>1.183</td><td>--</td><td>--</td><td>9.356865</td><td>0.614367</td><td>9.571415</td><td>8.957047</td><td>--</td><td>--</td><td>3581.26050000</td><td>4326.85107000</td><td>3405656.34023</td><td>1399</td><td>2.027e+06</td><td>2206</td><td>2.072e+06</td><td>1834</td><td>--</td><td>--</td><td>0.002791</td><td>0.00303</td><td>0.0039</td><td>0.00693</td><td>81.81732252743,42.29640171072,3889.14697</td></tr>\n",
       "<tr><td>81.07020714699</td><td>42.30666259738</td><td>0.0183</td><td>0.0114</td><td>0.747915</td><td>--</td><td>2917-102-1</td><td>195052027036610048</td><td>3563.87891000</td><td>0.2405</td><td>0.0219</td><td>0.160</td><td>-0.218</td><td>0.025</td><td>0.020</td><td>1.000</td><td>--</td><td>--</td><td>9.598747</td><td>2.372551</td><td>10.878381</td><td>8.505830</td><td>-9.57</td><td>0.15</td><td>3299.47510000</td><td>3859.00171000</td><td>2725509.90051</td><td>981</td><td>6.082e+05</td><td>643.1</td><td>3.139e+06</td><td>1333</td><td>--</td><td>--</td><td>0.002783</td><td>0.003017</td><td>0.003807</td><td>0.006824</td><td>81.07020714699,42.30666259738,3563.87891</td></tr>\n",
       "<tr><td>80.28360077127</td><td>43.07576252577</td><td>0.0158</td><td>0.0105</td><td>0.991247</td><td>--</td><td>2917-2117-1</td><td>207333812437636608</td><td>3556.88159000</td><td>0.2495</td><td>0.0192</td><td>0.476</td><td>-0.550</td><td>0.023</td><td>0.016</td><td>1.126</td><td>8396.9</td><td>2.1345</td><td>9.989893</td><td>0.940436</td><td>10.362233</td><td>9.421797</td><td>2.47</td><td>0.31</td><td>3336.46069000</td><td>3824.27417000</td><td>1901032.94385</td><td>731</td><td>9.784e+05</td><td>481.5</td><td>1.35e+06</td><td>309.4</td><td>--</td><td>--</td><td>0.002787</td><td>0.002841</td><td>0.003788</td><td>0.006628</td><td>80.28360077127,43.07576252577,3556.88159</td></tr>\n",
       "<tr><td>81.65634289596</td><td>43.01971193381</td><td>0.0158</td><td>0.0105</td><td>0.089374</td><td>--</td><td>2917-195-1</td><td>195645832035222400</td><td>3955.39429000</td><td>0.2262</td><td>0.0176</td><td>0.138</td><td>0.311</td><td>0.024</td><td>0.017</td><td>0.977</td><td>18496.6</td><td>3.5290</td><td>10.021754</td><td>0.412804</td><td>10.157121</td><td>9.744317</td><td>--</td><td>--</td><td>3735.79517000</td><td>4203.52783000</td><td>1846057.12511</td><td>552.7</td><td>1.182e+06</td><td>484.6</td><td>1.003e+06</td><td>250.5</td><td>--</td><td>--</td><td>0.002774</td><td>0.002825</td><td>0.003789</td><td>0.006615</td><td>81.65634289596,43.01971193381,3955.39429</td></tr>\n",
       "<tr><td>82.35367329679</td><td>43.11650908429</td><td>0.0149</td><td>0.0114</td><td>0.563308</td><td>--</td><td>--</td><td>195474273863568000</td><td>4166.56787000</td><td>0.2086</td><td>0.0188</td><td>0.288</td><td>-0.305</td><td>0.021</td><td>0.015</td><td>0.931</td><td>7299.5</td><td>1.9519</td><td>10.153550</td><td>0.803403</td><td>10.460058</td><td>9.656655</td><td>-5.57</td><td>0.27</td><td>3871.85132000</td><td>4515.83301000</td><td>1635033.04191</td><td>571</td><td>8.941e+05</td><td>316.4</td><td>1.088e+06</td><td>258.7</td><td>--</td><td>--</td><td>0.002781</td><td>0.002816</td><td>0.003788</td><td>0.006605</td><td>82.35367329679,43.11650908429,4166.56787</td></tr>\n",
       "<tr><td>81.00295672003</td><td>42.41899671892</td><td>0.0178</td><td>0.0112</td><td>0.688246</td><td>--</td><td>2917-1525-1</td><td>195241619775197824</td><td>2617.66113000</td><td>0.3361</td><td>0.0213</td><td>0.857</td><td>-2.544</td><td>0.028</td><td>0.020</td><td>1.045</td><td>--</td><td>--</td><td>10.179756</td><td>2.526001</td><td>11.567115</td><td>9.041114</td><td>4.48</td><td>0.14</td><td>2481.29810000</td><td>2749.68115000</td><td>1596042.10640</td><td>540</td><td>3.225e+05</td><td>436.6</td><td>1.917e+06</td><td>874.7</td><td>--</td><td>--</td><td>0.00278</td><td>0.003154</td><td>0.003812</td><td>0.006965</td><td>81.00295672003,42.41899671892,2617.66113</td></tr>\n",
       "<tr><td>80.86337826456</td><td>42.39159306647</td><td>0.0187</td><td>0.0115</td><td>0.779197</td><td>--</td><td>2917-1551-1</td><td>195243097243949184</td><td>3730.47852000</td><td>0.2229</td><td>0.0206</td><td>0.123</td><td>-0.207</td><td>0.026</td><td>0.019</td><td>1.055</td><td>--</td><td>--</td><td>10.262775</td><td>2.427823</td><td>11.580130</td><td>9.152307</td><td>-9.62</td><td>0.21</td><td>3451.86206000</td><td>4004.74097000</td><td>1478552.08385</td><td>431.1</td><td>3.187e+05</td><td>407.9</td><td>1.731e+06</td><td>875</td><td>--</td><td>--</td><td>0.002773</td><td>0.003117</td><td>0.003819</td><td>0.006936</td><td>80.86337826456,42.39159306647,3730.47852</td></tr>\n",
       "<tr><td>80.65165660438</td><td>42.40117278340</td><td>0.0152</td><td>0.0101</td><td>0.891857</td><td>--</td><td>2917-2411-1</td><td>195232003349318144</td><td>2570.28589000</td><td>0.3565</td><td>0.0163</td><td>-0.239</td><td>-1.693</td><td>0.020</td><td>0.017</td><td>1.027</td><td>--</td><td>--</td><td>10.334803</td><td>1.374884</td><td>10.950708</td><td>9.575825</td><td>-34.79</td><td>0.36</td><td>2452.75879000</td><td>2702.69653000</td><td>1383648.69411</td><td>213.7</td><td>5.69e+05</td><td>220.4</td><td>1.172e+06</td><td>256</td><td>--</td><td>--</td><td>0.00276</td><td>0.002822</td><td>0.003787</td><td>0.006608</td><td>80.65165660438,42.4011727834,2570.28589</td></tr>\n",
       "<tr><td>81.40775633236</td><td>42.83121275878</td><td>0.0142</td><td>0.0091</td><td>0.189129</td><td>--</td><td>2917-311-1</td><td>195642705299109760</td><td>3282.29395000</td><td>0.2568</td><td>0.0182</td><td>-0.120</td><td>-0.166</td><td>0.024</td><td>0.017</td><td>0.933</td><td>4767.4</td><td>1.4151</td><td>10.384415</td><td>2.268264</td><td>11.585733</td><td>9.317470</td><td>-11.22</td><td>0.17</td><td>3120.98828000</td><td>3511.12842000</td><td>1321846.41929</td><td>388.2</td><td>3.17e+05</td><td>322</td><td>1.486e+06</td><td>782.6</td><td>--</td><td>--</td><td>0.002774</td><td>0.003</td><td>0.003822</td><td>0.006822</td><td>81.40775633236,42.83121275878,3282.29395</td></tr>\n",
       "<tr><td>...</td><td>...</td><td>...</td><td>...</td><td>...</td><td>...</td><td>...</td><td>...</td><td>...</td><td>...</td><td>...</td><td>...</td><td>...</td><td>...</td><td>...</td><td>...</td><td>...</td><td>...</td><td>...</td><td>...</td><td>...</td><td>...</td><td>...</td><td>...</td><td>...</td><td>...</td><td>...</td><td>...</td><td>...</td><td>...</td><td>...</td><td>...</td><td>...</td><td>...</td><td>...</td><td>...</td><td>...</td><td>...</td><td>...</td></tr>\n",
       "<tr><td>81.57998971292</td><td>43.70011438083</td><td>0.0621</td><td>0.0411</td><td>0.767485</td><td>--</td><td>--</td><td>207735821376033280</td><td>2700.41040000</td><td>0.3588</td><td>0.0712</td><td>-0.130</td><td>-3.189</td><td>0.096</td><td>0.070</td><td>0.957</td><td>5410.6</td><td>4.6943</td><td>17.171354</td><td>1.466641</td><td>17.845860</td><td>16.379220</td><td>--</td><td>--</td><td>2353.47217000</td><td>3236.25000000</td><td>2549.20601</td><td>1.693</td><td>993.3</td><td>7.079</td><td>2226</td><td>6.694</td><td>--</td><td>--</td><td>0.002848</td><td>0.008226</td><td>0.004995</td><td>0.01322</td><td>81.57998971292,43.70011438083,2700.4104</td></tr>\n",
       "<tr><td>81.04189343161</td><td>42.67198971352</td><td>0.0618</td><td>0.0398</td><td>0.501334</td><td>--</td><td>--</td><td>195259761717193344</td><td>2752.94629000</td><td>0.3516</td><td>0.0690</td><td>0.550</td><td>-1.785</td><td>0.096</td><td>0.071</td><td>0.992</td><td>5526.7</td><td>4.7258</td><td>17.186571</td><td>1.110273</td><td>17.659157</td><td>16.548883</td><td>--</td><td>--</td><td>2276.16260000</td><td>3293.94824000</td><td>2513.72930</td><td>1.46</td><td>1180</td><td>6.614</td><td>1904</td><td>6.516</td><td>--</td><td>--</td><td>0.002827</td><td>0.006696</td><td>0.0053</td><td>0.012</td><td>81.04189343161,42.67198971352,2752.94629</td></tr>\n",
       "<tr><td>81.05560542368</td><td>42.61291651438</td><td>0.0604</td><td>0.0401</td><td>0.526650</td><td>--</td><td>--</td><td>195258593487895552</td><td>2661.53247000</td><td>0.3600</td><td>0.0715</td><td>-1.067</td><td>-0.112</td><td>0.098</td><td>0.074</td><td>1.005</td><td>5643.2</td><td>4.7197</td><td>17.209790</td><td>1.194386</td><td>17.730433</td><td>16.536047</td><td>--</td><td>--</td><td>2271.47363000</td><td>3208.42358000</td><td>2460.54480</td><td>1.624</td><td>1105</td><td>6.135</td><td>1926</td><td>8.307</td><td>--</td><td>--</td><td>0.002847</td><td>0.006644</td><td>0.006017</td><td>0.01266</td><td>81.05560542368,42.61291651438,2661.53247</td></tr>\n",
       "<tr><td>81.25241950321</td><td>43.41771544458</td><td>0.0758</td><td>0.0487</td><td>0.555390</td><td>--</td><td>--</td><td>207353461908793344</td><td>2508.60254000</td><td>0.4238</td><td>0.0795</td><td>-1.270</td><td>-3.495</td><td>0.103</td><td>0.073</td><td>1.015</td><td>5470.0</td><td>4.7556</td><td>17.212732</td><td>1.457434</td><td>17.878962</td><td>16.421528</td><td>--</td><td>--</td><td>2094.41577000</td><td>3194.03223000</td><td>2453.88362</td><td>1.786</td><td>963.5</td><td>9.5</td><td>2141</td><td>10.33</td><td>--</td><td>--</td><td>0.002866</td><td>0.01106</td><td>0.006459</td><td>0.01752</td><td>81.25241950321,43.41771544458,2508.60254</td></tr>\n",
       "<tr><td>81.39458857461</td><td>43.52394377970</td><td>0.0632</td><td>0.0443</td><td>0.614014</td><td>--</td><td>--</td><td>207729464824481792</td><td>2785.30127000</td><td>0.4046</td><td>0.0731</td><td>1.127</td><td>-1.088</td><td>0.094</td><td>0.076</td><td>0.988</td><td>5366.0</td><td>4.7392</td><td>17.221502</td><td>1.331999</td><td>17.815466</td><td>16.483467</td><td>--</td><td>--</td><td>2299.06812000</td><td>3494.61963000</td><td>2434.14098</td><td>1.62</td><td>1022</td><td>13.68</td><td>2022</td><td>13.99</td><td>--</td><td>--</td><td>0.002849</td><td>0.01481</td><td>0.008411</td><td>0.02322</td><td>81.39458857461,43.5239437797,2785.30127</td></tr>\n",
       "<tr><td>81.55926570834</td><td>43.69092229164</td><td>0.0650</td><td>0.0435</td><td>0.759103</td><td>--</td><td>--</td><td>207735821373397376</td><td>2521.10547000</td><td>0.3820</td><td>0.0760</td><td>0.954</td><td>-3.850</td><td>0.101</td><td>0.078</td><td>0.993</td><td>5353.2</td><td>4.6924</td><td>17.248838</td><td>1.547333</td><td>17.971302</td><td>16.423970</td><td>--</td><td>--</td><td>2150.48926000</td><td>3173.16504000</td><td>2373.62119</td><td>1.658</td><td>884.9</td><td>11.46</td><td>2136</td><td>8.395</td><td>--</td><td>--</td><td>0.002858</td><td>0.01434</td><td>0.0057</td><td>0.02004</td><td>81.55926570834,43.69092229164,2521.10547</td></tr>\n",
       "<tr><td>80.74086106362</td><td>42.63447602478</td><td>0.0660</td><td>0.0441</td><td>0.714402</td><td>--</td><td>--</td><td>195308483826167168</td><td>2516.89185000</td><td>0.4121</td><td>0.0791</td><td>1.103</td><td>-3.863</td><td>0.092</td><td>0.068</td><td>0.972</td><td>5197.0</td><td>4.7530</td><td>17.255178</td><td>1.169327</td><td>17.759310</td><td>16.589983</td><td>--</td><td>--</td><td>2069.80615000</td><td>3635.43115000</td><td>2359.80068</td><td>1.684</td><td>1076</td><td>7.932</td><td>1833</td><td>9.533</td><td>--</td><td>--</td><td>0.002862</td><td>0.008478</td><td>0.006795</td><td>0.01527</td><td>80.74086106362,42.63447602478,2516.89185</td></tr>\n",
       "<tr><td>80.46493665119</td><td>43.38466993517</td><td>0.0727</td><td>0.0502</td><td>0.959052</td><td>--</td><td>--</td><td>207388130887037312</td><td>2597.08716000</td><td>0.4239</td><td>0.0846</td><td>-0.259</td><td>-1.745</td><td>0.099</td><td>0.077</td><td>0.918</td><td>4955.3</td><td>4.7934</td><td>17.276918</td><td>1.151777</td><td>17.779968</td><td>16.628191</td><td>--</td><td>--</td><td>2095.26196000</td><td>3564.05176000</td><td>2313.02185</td><td>1.913</td><td>1055</td><td>7.214</td><td>1770</td><td>9.1</td><td>--</td><td>--</td><td>0.002898</td><td>0.007929</td><td>0.006742</td><td>0.01467</td><td>80.46493665119,43.38466993517,2597.08716</td></tr>\n",
       "<tr><td>81.22518164710</td><td>42.54127927506</td><td>0.1163</td><td>0.0770</td><td>0.489835</td><td>--</td><td>--</td><td>195248667820329472</td><td>4080.54614000</td><td>0.7224</td><td>0.1432</td><td>2.445</td><td>-0.730</td><td>0.191</td><td>0.146</td><td>1.002</td><td>4434.1</td><td>4.9189</td><td>18.415377</td><td>1.346592</td><td>19.018894</td><td>17.672302</td><td>--</td><td>--</td><td>1626.89954000</td><td>7151.22803000</td><td>810.58048</td><td>0.947</td><td>337.2</td><td>7.215</td><td>676.5</td><td>5.977</td><td>--</td><td>--</td><td>0.003033</td><td>0.0234</td><td>0.01031</td><td>0.03371</td><td>81.2251816471,42.54127927506,4080.54614</td></tr>\n",
       "<tr><td>81.41594943215</td><td>42.29028243566</td><td>0.0523</td><td>0.0359</td><td>0.661196</td><td>--</td><td>--</td><td>195042990425340800</td><td>3064.43994000</td><td>0.3201</td><td>0.0632</td><td>1.398</td><td>-0.556</td><td>0.074</td><td>0.059</td><td>1.012</td><td>--</td><td>--</td><td>--</td><td>--</td><td>--</td><td>--</td><td>--</td><td>--</td><td>2625.66138000</td><td>3874.33472000</td><td>--</td><td>--</td><td>--</td><td>--</td><td>--</td><td>--</td><td>--</td><td>--</td><td>--</td><td>--</td><td>--</td><td>--</td><td>81.41594943215,42.29028243566,3064.43994</td></tr>\n",
       "</table></div>"
      ],
      "text/plain": [
       "<Table length=4749>\n",
       "   RA_ICRS_1       DE_ICRS_1    ...                 SkyCoord                \n",
       "      deg             deg       ...                deg,deg,pc               \n",
       "    float64         float64     ...                 SkyCoord                \n",
       "--------------- --------------- ... ----------------------------------------\n",
       " 81.81732252743  42.29640171072 ... 81.81732252743,42.29640171072,3889.14697\n",
       " 81.07020714699  42.30666259738 ... 81.07020714699,42.30666259738,3563.87891\n",
       " 80.28360077127  43.07576252577 ... 80.28360077127,43.07576252577,3556.88159\n",
       " 81.65634289596  43.01971193381 ... 81.65634289596,43.01971193381,3955.39429\n",
       " 82.35367329679  43.11650908429 ... 82.35367329679,43.11650908429,4166.56787\n",
       " 81.00295672003  42.41899671892 ... 81.00295672003,42.41899671892,2617.66113\n",
       " 80.86337826456  42.39159306647 ... 80.86337826456,42.39159306647,3730.47852\n",
       " 80.65165660438  42.40117278340 ...  80.65165660438,42.4011727834,2570.28589\n",
       " 81.40775633236  42.83121275878 ... 81.40775633236,42.83121275878,3282.29395\n",
       "            ...             ... ...                                      ...\n",
       " 81.57998971292  43.70011438083 ...  81.57998971292,43.70011438083,2700.4104\n",
       " 81.04189343161  42.67198971352 ... 81.04189343161,42.67198971352,2752.94629\n",
       " 81.05560542368  42.61291651438 ... 81.05560542368,42.61291651438,2661.53247\n",
       " 81.25241950321  43.41771544458 ... 81.25241950321,43.41771544458,2508.60254\n",
       " 81.39458857461  43.52394377970 ...  81.39458857461,43.5239437797,2785.30127\n",
       " 81.55926570834  43.69092229164 ... 81.55926570834,43.69092229164,2521.10547\n",
       " 80.74086106362  42.63447602478 ... 80.74086106362,42.63447602478,2516.89185\n",
       " 80.46493665119  43.38466993517 ... 80.46493665119,43.38466993517,2597.08716\n",
       " 81.22518164710  42.54127927506 ...  81.2251816471,42.54127927506,4080.54614\n",
       " 81.41594943215  42.29028243566 ... 81.41594943215,42.29028243566,3064.43994"
      ]
     },
     "execution_count": 3,
     "metadata": {},
     "output_type": "execute_result"
    }
   ],
   "source": [
    "coord = SkyCoord.from_name(\"SNR G166.0+04.3\")\n",
    "radius = 1*u.deg\n",
    "# Gets all conical stars in the 1 deg region around G166 center:\n",
    "# stars_in_region = get_stars_in_region(coord, radius)\n",
    "stars_in_region = Table.read('data/stars_near_g166.ecsv', format='ascii.ecsv')\n",
    "# stars_in_region\n",
    "dist_mask_u = stars_in_region['rgeo']<5*u.kpc\n",
    "dist_mask_l = stars_in_region['rgeo']>2.5*u.kpc\n",
    "ruwe_mask = stars_in_region['RUWE']<1.4\n",
    "plxq_mask = stars_in_region['Plx']/stars_in_region['e_Plx'] > 5\n",
    "sir = stars_in_region[dist_mask_l & dist_mask_u & ruwe_mask & plxq_mask]\n",
    "sir"
   ]
  },
  {
   "cell_type": "markdown",
   "metadata": {},
   "source": [
    "# Optimise matching"
   ]
  },
  {
   "cell_type": "markdown",
   "metadata": {},
   "source": [
    "- trace all stars back for 20 kyr\n",
    "- create one config file for each star. 4749 config files needed. each config file performs the trace for one star with all possible matches.\n",
    "- need to create these traceback config files."
   ]
  },
  {
   "cell_type": "code",
   "execution_count": 11,
   "metadata": {},
   "outputs": [
    {
     "data": {
      "text/html": [
       "<div><i>Table length=4749</i>\n",
       "<table id=\"table139428917578112\" class=\"table-striped table-bordered table-condensed\">\n",
       "<thead><tr><th>TypeInput</th><th>RA</th><th>DE</th><th>Plx</th><th>e_Plx</th><th>RV</th><th>e_RV</th><th>RVdist</th><th>pmRA</th><th>e_pmRA</th><th>pmDE</th><th>e_pmDE</th><th>Source</th></tr></thead>\n",
       "<thead><tr><th></th><th></th><th></th><th>mas</th><th>mas</th><th></th><th></th><th></th><th>mas / yr</th><th>mas / yr</th><th>mas / yr</th><th>mas / yr</th><th></th></tr></thead>\n",
       "<thead><tr><th>int64</th><th>str12</th><th>str12</th><th>float64</th><th>float32</th><th>int64</th><th>int64</th><th>int64</th><th>float64</th><th>float32</th><th>float64</th><th>float32</th><th>str21</th></tr></thead>\n",
       "<tr><td>1</td><td>05 27 16.157</td><td>42 17 47.046</td><td>0.25712579</td><td>0.0240</td><td>0</td><td>0</td><td>0</td><td>-0.068</td><td>0.028</td><td>-0.170</td><td>0.019</td><td>195365594010029440</td></tr>\n",
       "<tr><td>1</td><td>05 24 16.850</td><td>42 18 23.985</td><td>0.28059315</td><td>0.0219</td><td>0</td><td>0</td><td>0</td><td>0.160</td><td>0.025</td><td>-0.218</td><td>0.020</td><td>195052027036610048</td></tr>\n",
       "<tr><td>1</td><td>05 21 08.064</td><td>43 04 32.745</td><td>0.28114515</td><td>0.0192</td><td>0</td><td>0</td><td>0</td><td>0.476</td><td>0.023</td><td>-0.550</td><td>0.016</td><td>207333812437636608</td></tr>\n",
       "<tr><td>1</td><td>05 26 37.522</td><td>43 01 10.963</td><td>0.25281930</td><td>0.0176</td><td>0</td><td>0</td><td>0</td><td>0.138</td><td>0.024</td><td>0.311</td><td>0.017</td><td>195645832035222400</td></tr>\n",
       "<tr><td>1</td><td>05 29 24.882</td><td>43 06 59.433</td><td>0.24000569</td><td>0.0188</td><td>0</td><td>0</td><td>0</td><td>0.288</td><td>0.021</td><td>-0.305</td><td>0.015</td><td>195474273863568000</td></tr>\n",
       "<tr><td>1</td><td>05 24 00.710</td><td>42 25 08.388</td><td>0.38202042</td><td>0.0213</td><td>0</td><td>0</td><td>0</td><td>0.857</td><td>0.028</td><td>-2.544</td><td>0.020</td><td>195241619775197824</td></tr>\n",
       "<tr><td>1</td><td>05 23 27.211</td><td>42 23 29.735</td><td>0.26806213</td><td>0.0206</td><td>0</td><td>0</td><td>0</td><td>0.123</td><td>0.026</td><td>-0.207</td><td>0.019</td><td>195243097243949184</td></tr>\n",
       "<tr><td>1</td><td>05 22 36.398</td><td>42 24 04.222</td><td>0.38906178</td><td>0.0163</td><td>0</td><td>0</td><td>0</td><td>-0.239</td><td>0.020</td><td>-1.693</td><td>0.017</td><td>195232003349318144</td></tr>\n",
       "<tr><td>1</td><td>05 25 37.862</td><td>42 49 52.366</td><td>0.30466497</td><td>0.0182</td><td>0</td><td>0</td><td>0</td><td>-0.120</td><td>0.024</td><td>-0.166</td><td>0.017</td><td>195642705299109760</td></tr>\n",
       "<tr><td>...</td><td>...</td><td>...</td><td>...</td><td>...</td><td>...</td><td>...</td><td>...</td><td>...</td><td>...</td><td>...</td><td>...</td><td>...</td></tr>\n",
       "<tr><td>1</td><td>05 26 19.198</td><td>43 42 00.412</td><td>0.37031408</td><td>0.0712</td><td>0</td><td>0</td><td>0</td><td>-0.130</td><td>0.096</td><td>-3.189</td><td>0.070</td><td>207735821376033280</td></tr>\n",
       "<tr><td>1</td><td>05 24 10.054</td><td>42 40 19.163</td><td>0.36324719</td><td>0.0690</td><td>0</td><td>0</td><td>0</td><td>0.550</td><td>0.096</td><td>-1.785</td><td>0.071</td><td>195259761717193344</td></tr>\n",
       "<tr><td>1</td><td>05 24 13.345</td><td>42 36 46.499</td><td>0.37572339</td><td>0.0715</td><td>0</td><td>0</td><td>0</td><td>-1.067</td><td>0.098</td><td>-0.112</td><td>0.074</td><td>195258593487895552</td></tr>\n",
       "<tr><td>1</td><td>05 25 00.581</td><td>43 25 03.776</td><td>0.39862831</td><td>0.0795</td><td>0</td><td>0</td><td>0</td><td>-1.270</td><td>0.103</td><td>-3.495</td><td>0.073</td><td>207353461908793344</td></tr>\n",
       "<tr><td>1</td><td>05 25 34.701</td><td>43 31 26.198</td><td>0.35902759</td><td>0.0731</td><td>0</td><td>0</td><td>0</td><td>1.127</td><td>0.094</td><td>-1.088</td><td>0.076</td><td>207729464824481792</td></tr>\n",
       "<tr><td>1</td><td>05 26 14.224</td><td>43 41 27.320</td><td>0.39665139</td><td>0.0760</td><td>0</td><td>0</td><td>0</td><td>0.954</td><td>0.101</td><td>-3.850</td><td>0.078</td><td>207735821373397376</td></tr>\n",
       "<tr><td>1</td><td>05 22 57.807</td><td>42 38 04.114</td><td>0.39731544</td><td>0.0791</td><td>0</td><td>0</td><td>0</td><td>1.103</td><td>0.092</td><td>-3.863</td><td>0.068</td><td>195308483826167168</td></tr>\n",
       "<tr><td>1</td><td>05 21 51.585</td><td>43 23 04.812</td><td>0.38504676</td><td>0.0846</td><td>0</td><td>0</td><td>0</td><td>-0.259</td><td>0.099</td><td>-1.745</td><td>0.077</td><td>207388130887037312</td></tr>\n",
       "<tr><td>1</td><td>05 24 54.044</td><td>42 32 28.605</td><td>0.24506524</td><td>0.1432</td><td>0</td><td>0</td><td>0</td><td>2.445</td><td>0.191</td><td>-0.730</td><td>0.146</td><td>195248667820329472</td></tr>\n",
       "<tr><td>1</td><td>05 25 39.828</td><td>42 17 25.017</td><td>0.32632390</td><td>0.0632</td><td>0</td><td>0</td><td>0</td><td>1.398</td><td>0.074</td><td>-0.556</td><td>0.059</td><td>195042990425340800</td></tr>\n",
       "</table></div>"
      ],
      "text/plain": [
       "<Table length=4749>\n",
       "TypeInput      RA           DE      ...    pmDE    e_pmDE        Source      \n",
       "                                    ...  mas / yr mas / yr                   \n",
       "  int64      str12        str12     ...  float64  float32        str21       \n",
       "--------- ------------ ------------ ... --------- -------- ------------------\n",
       "        1 05 27 16.157 42 17 47.046 ...    -0.170    0.019 195365594010029440\n",
       "        1 05 24 16.850 42 18 23.985 ...    -0.218    0.020 195052027036610048\n",
       "        1 05 21 08.064 43 04 32.745 ...    -0.550    0.016 207333812437636608\n",
       "        1 05 26 37.522 43 01 10.963 ...     0.311    0.017 195645832035222400\n",
       "        1 05 29 24.882 43 06 59.433 ...    -0.305    0.015 195474273863568000\n",
       "        1 05 24 00.710 42 25 08.388 ...    -2.544    0.020 195241619775197824\n",
       "        1 05 23 27.211 42 23 29.735 ...    -0.207    0.019 195243097243949184\n",
       "        1 05 22 36.398 42 24 04.222 ...    -1.693    0.017 195232003349318144\n",
       "        1 05 25 37.862 42 49 52.366 ...    -0.166    0.017 195642705299109760\n",
       "      ...          ...          ... ...       ...      ...                ...\n",
       "        1 05 26 19.198 43 42 00.412 ...    -3.189    0.070 207735821376033280\n",
       "        1 05 24 10.054 42 40 19.163 ...    -1.785    0.071 195259761717193344\n",
       "        1 05 24 13.345 42 36 46.499 ...    -0.112    0.074 195258593487895552\n",
       "        1 05 25 00.581 43 25 03.776 ...    -3.495    0.073 207353461908793344\n",
       "        1 05 25 34.701 43 31 26.198 ...    -1.088    0.076 207729464824481792\n",
       "        1 05 26 14.224 43 41 27.320 ...    -3.850    0.078 207735821373397376\n",
       "        1 05 22 57.807 42 38 04.114 ...    -3.863    0.068 195308483826167168\n",
       "        1 05 21 51.585 43 23 04.812 ...    -1.745    0.077 207388130887037312\n",
       "        1 05 24 54.044 42 32 28.605 ...    -0.730    0.146 195248667820329472\n",
       "        1 05 25 39.828 42 17 25.017 ...    -0.556    0.059 195042990425340800"
      ]
     },
     "execution_count": 11,
     "metadata": {},
     "output_type": "execute_result"
    }
   ],
   "source": [
    "star_lines = fs4giesler(sir)\n",
    "star_lines #this is the input."
   ]
  },
  {
   "cell_type": "code",
   "execution_count": null,
   "metadata": {},
   "outputs": [],
   "source": [
    "execute_command('cd giessler_traceback ; examples/trace/traceback g166/trace.conf')"
   ]
  },
  {
   "cell_type": "markdown",
   "metadata": {},
   "source": [
    "# testing"
   ]
  },
  {
   "cell_type": "code",
   "execution_count": 84,
   "metadata": {},
   "outputs": [],
   "source": [
    "from astropy.table import Table\n",
    "import astropy.units as u\n",
    "import numpy as np\n",
    "\n",
    "def find_neighbors_by_source_id(table, coord_column, source_column, source_id, max_sep, return_table=False):\n",
    "    \"\"\"\n",
    "    Find stars within a specified angular separation from a given source ID in an astropy table.\n",
    "    The output is sorted by separation, with the target source as the first row.\n",
    "\n",
    "    Parameters:\n",
    "    -----------\n",
    "    table : astropy.table.Table\n",
    "        The input table containing sky coordinates and source IDs.\n",
    "    coord_column : str\n",
    "        The column name of the SkyCoord objects in the table.\n",
    "    source_column : str\n",
    "        The column name of the source IDs in the table.\n",
    "    source_id : int or str\n",
    "        The source ID of the star to search around.\n",
    "    max_sep : astropy.units.Quantity\n",
    "        The maximum separation angle within which to find neighbors.\n",
    "    return_table : bool, optional\n",
    "        If True, returns a table of the neighbors with the target source as the first row.\n",
    "        If False, returns a list of source IDs.\n",
    "\n",
    "    Returns:\n",
    "    --------\n",
    "    neighbors : list of int or astropy.table.Table\n",
    "        Either a list of source IDs of neighboring stars or a table of these neighbors,\n",
    "        with the target star as the first row.\n",
    "    \"\"\"\n",
    "\n",
    "    # Ensure max_sep is an astropy Quantity with angular units\n",
    "    if not isinstance(max_sep, u.Quantity):\n",
    "        raise ValueError(\"max_sep must be an astropy.units.Quantity with angular units (e.g., degrees).\")\n",
    "\n",
    "    # Locate the index of the target star with the given source_id\n",
    "    target_indices = np.where(table[source_column] == source_id)[0]\n",
    "    if len(target_indices) == 0:\n",
    "        raise ValueError(f\"Source ID {source_id} not found in the table.\")\n",
    "    target_index = target_indices[0]\n",
    "\n",
    "    # Get the SkyCoord object of the star at the specified index\n",
    "    target_coord = table[coord_column][target_index]\n",
    "\n",
    "    # Calculate separations between the target and all other coordinates in the table\n",
    "    separations = target_coord.separation(table[coord_column])\n",
    "\n",
    "    # Find indices where separation is within the max_sep, including the target itself\n",
    "    neighbor_indices = np.where(separations < max_sep)[0]\n",
    "\n",
    "    # Sort the neighbors by separation\n",
    "    sorted_indices = neighbor_indices[np.argsort(separations[neighbor_indices])]\n",
    "\n",
    "    # Get the source IDs of the sorted neighboring stars\n",
    "    neighbor_source_ids = table[source_column][sorted_indices].tolist()\n",
    "\n",
    "    # Return results based on the specified return type\n",
    "    if return_table:\n",
    "        # Create a subtable with the sorted neighbors' source IDs\n",
    "        neighbor_table = table[sorted_indices]\n",
    "        return neighbor_table\n",
    "    else:\n",
    "        return neighbor_source_ids\n"
   ]
  },
  {
   "cell_type": "code",
   "execution_count": 86,
   "metadata": {},
   "outputs": [
    {
     "data": {
      "text/html": [
       "<div><i>Table length=14</i>\n",
       "<table id=\"table131503908099936\" class=\"table-striped table-bordered table-condensed\">\n",
       "<thead><tr><th>RA_ICRS_1</th><th>DE_ICRS_1</th><th>e_RA_ICRS</th><th>e_DE_ICRS</th><th>_r_1</th><th>HIP</th><th>TYC2</th><th>Source</th><th>rgeo</th><th>Plx</th><th>e_Plx</th><th>pmRA</th><th>pmDE</th><th>e_pmRA</th><th>e_pmDE</th><th>RUWE</th><th>Teff</th><th>logg</th><th>Gmag</th><th>BP-RP</th><th>BPmag</th><th>RPmag</th><th>RV</th><th>e_RV</th><th>b_rgeo</th><th>B_rgeo</th><th>FG</th><th>e_FG</th><th>FBP</th><th>e_FBP</th><th>FRP</th><th>e_FRP</th><th>RAVE5</th><th>RAVE6</th><th>e_Gmag</th><th>e_BPmag</th><th>e_RPmag</th><th>e_BP-RP</th><th>SkyCoord</th></tr></thead>\n",
       "<thead><tr><th>deg</th><th>deg</th><th>mas</th><th>mas</th><th></th><th></th><th></th><th></th><th>pc</th><th>mas</th><th>mas</th><th>mas / yr</th><th>mas / yr</th><th>mas / yr</th><th>mas / yr</th><th></th><th>K</th><th>log(cm.s**-2)</th><th>mag</th><th>mag</th><th>mag</th><th>mag</th><th>km / s</th><th>km / s</th><th>pc</th><th>pc</th><th></th><th></th><th></th><th></th><th></th><th></th><th></th><th></th><th></th><th></th><th></th><th></th><th>deg,deg,pc</th></tr></thead>\n",
       "<thead><tr><th>float64</th><th>float64</th><th>float64</th><th>float64</th><th>float64</th><th>int32</th><th>str11</th><th>int64</th><th>float64</th><th>float64</th><th>float32</th><th>float64</th><th>float64</th><th>float32</th><th>float32</th><th>float64</th><th>float64</th><th>float64</th><th>float64</th><th>float64</th><th>float64</th><th>float64</th><th>float64</th><th>float32</th><th>float64</th><th>float64</th><th>float64</th><th>float32</th><th>float32</th><th>float32</th><th>float32</th><th>float32</th><th>str1</th><th>str1</th><th>float64</th><th>float32</th><th>float32</th><th>float32</th><th>SkyCoord</th></tr></thead>\n",
       "<tr><td>81.62564389768</td><td>42.93974983019</td><td>0.0447</td><td>0.0294</td><td>0.006438</td><td>--</td><td>--</td><td>195633325090480896</td><td>3138.43115000</td><td>0.2922</td><td>0.0544</td><td>1.408</td><td>-2.592</td><td>0.064</td><td>0.046</td><td>1.046</td><td>6047.5</td><td>4.4779</td><td>16.263456</td><td>1.037928</td><td>16.644405</td><td>15.606478</td><td>--</td><td>--</td><td>2643.20166000</td><td>3779.71533000</td><td>5882.52580</td><td>3.53</td><td>3004</td><td>17.82</td><td>4535</td><td>16.2</td><td>--</td><td>--</td><td>0.002831</td><td>0.00702</td><td>0.005416</td><td>0.01244</td><td>81.62564389768,42.93974983019,3138.43115</td></tr>\n",
       "<tr><td>81.62187230463</td><td>42.93624922588</td><td>0.0429</td><td>0.0280</td><td>0.003716</td><td>--</td><td>--</td><td>195633320791780608</td><td>3241.66699000</td><td>0.2980</td><td>0.0489</td><td>0.846</td><td>-3.886</td><td>0.059</td><td>0.045</td><td>1.021</td><td>6518.7</td><td>4.3925</td><td>16.193027</td><td>1.071283</td><td>16.641203</td><td>15.569920</td><td>--</td><td>--</td><td>2832.63281000</td><td>3757.81396000</td><td>6276.76299</td><td>2.736</td><td>3013</td><td>13.36</td><td>4690</td><td>11.55</td><td>--</td><td>--</td><td>0.002796</td><td>0.005564</td><td>0.004629</td><td>0.01019</td><td>81.62187230463,42.93624922588,3241.66699</td></tr>\n",
       "<tr><td>81.61260055545</td><td>42.95209988890</td><td>0.0418</td><td>0.0272</td><td>0.020854</td><td>--</td><td>--</td><td>195645041761386112</td><td>2658.02783000</td><td>0.3465</td><td>0.0463</td><td>0.097</td><td>-0.625</td><td>0.059</td><td>0.043</td><td>0.970</td><td>6328.1</td><td>4.4236</td><td>16.233372</td><td>1.079447</td><td>16.688612</td><td>15.609165</td><td>--</td><td>--</td><td>2319.83838000</td><td>3126.79761000</td><td>6047.80561</td><td>2.333</td><td>2884</td><td>8.967</td><td>4524</td><td>9.515</td><td>--</td><td>--</td><td>0.002787</td><td>0.00438</td><td>0.004416</td><td>0.008796</td><td>81.61260055545,42.9520998889,2658.02783</td></tr>\n",
       "<tr><td>81.64062967618</td><td>42.92659012262</td><td>0.0171</td><td>0.0115</td><td>0.013274</td><td>--</td><td>--</td><td>195633045913862784</td><td>3680.09912000</td><td>0.2328</td><td>0.0197</td><td>-0.214</td><td>0.303</td><td>0.025</td><td>0.019</td><td>1.056</td><td>5619.7</td><td>3.0466</td><td>14.356781</td><td>1.493430</td><td>15.045052</td><td>13.551621</td><td>-22.33</td><td>2.07</td><td>3433.33960000</td><td>3935.00684000</td><td>34059.19885</td><td>5.756</td><td>1.31e+04</td><td>17.9</td><td>3.01e+04</td><td>46.01</td><td>--</td><td>--</td><td>0.002761</td><td>0.00316</td><td>0.004128</td><td>0.007287</td><td>81.64062967618,42.92659012262,3680.09912</td></tr>\n",
       "<tr><td>81.60423028846</td><td>42.92918404038</td><td>0.0192</td><td>0.0125</td><td>0.015768</td><td>--</td><td>--</td><td>195633290730748544</td><td>2703.84351000</td><td>0.3354</td><td>0.0222</td><td>0.748</td><td>-2.973</td><td>0.028</td><td>0.021</td><td>1.028</td><td>6754.7</td><td>3.6982</td><td>14.610037</td><td>1.051590</td><td>15.046293</td><td>13.994703</td><td>-6.74</td><td>6.20</td><td>2560.54053000</td><td>2889.21631000</td><td>26973.16616</td><td>5.26</td><td>1.309e+04</td><td>20.05</td><td>2.001e+04</td><td>17.12</td><td>--</td><td>--</td><td>0.002763</td><td>0.003248</td><td>0.003892</td><td>0.00714</td><td>81.60423028846,42.92918404038,2703.84351</td></tr>\n",
       "<tr><td>81.59936703854</td><td>42.93817444048</td><td>0.0346</td><td>0.0232</td><td>0.019389</td><td>--</td><td>--</td><td>195645041761269248</td><td>3332.52466000</td><td>0.2771</td><td>0.0401</td><td>0.075</td><td>-2.519</td><td>0.050</td><td>0.039</td><td>0.931</td><td>5637.6</td><td>4.0132</td><td>15.895838</td><td>1.463045</td><td>16.559977</td><td>15.096931</td><td>--</td><td>--</td><td>2922.06055000</td><td>3991.81665000</td><td>8252.99539</td><td>2.695</td><td>3247</td><td>14.01</td><td>7251</td><td>10.17</td><td>--</td><td>--</td><td>0.002778</td><td>0.005454</td><td>0.004075</td><td>0.009529</td><td>81.59936703854,42.93817444048,3332.52466</td></tr>\n",
       "<tr><td>81.59270938120</td><td>42.93048227897</td><td>0.0373</td><td>0.0241</td><td>0.023820</td><td>--</td><td>--</td><td>195633187651535488</td><td>3031.43726000</td><td>0.2978</td><td>0.0419</td><td>-0.486</td><td>-1.182</td><td>0.049</td><td>0.037</td><td>1.201</td><td>8558.9</td><td>4.1257</td><td>15.515886</td><td>0.915350</td><td>15.867992</td><td>14.952642</td><td>--</td><td>--</td><td>2696.21387000</td><td>3522.58398000</td><td>11710.95258</td><td>5.712</td><td>6141</td><td>12.14</td><td>8281</td><td>11.93</td><td>--</td><td>--</td><td>0.002806</td><td>0.00352</td><td>0.00409</td><td>0.007611</td><td>81.5927093812,42.93048227897,3031.43726</td></tr>\n",
       "<tr><td>81.58889547044</td><td>42.95540259001</td><td>0.0358</td><td>0.0238</td><td>0.034440</td><td>--</td><td>--</td><td>195645003105955712</td><td>3142.18481000</td><td>0.3008</td><td>0.0422</td><td>1.475</td><td>-0.452</td><td>0.053</td><td>0.039</td><td>0.988</td><td>--</td><td>--</td><td>16.056543</td><td>1.228042</td><td>16.586267</td><td>15.358226</td><td>--</td><td>--</td><td>2784.35791000</td><td>3813.83911000</td><td>7117.53739</td><td>2.458</td><td>3169</td><td>7.413</td><td>5700</td><td>9.38</td><td>--</td><td>--</td><td>0.002781</td><td>0.003773</td><td>0.00418</td><td>0.007953</td><td>81.58889547044,42.95540259001,3142.18481</td></tr>\n",
       "<tr><td>81.60236243540</td><td>42.97840094338</td><td>0.0528</td><td>0.0342</td><td>0.048024</td><td>--</td><td>--</td><td>195645385358642176</td><td>2601.40649000</td><td>0.3603</td><td>0.0602</td><td>1.480</td><td>-2.044</td><td>0.075</td><td>0.054</td><td>0.937</td><td>6030.5</td><td>4.4922</td><td>16.644932</td><td>1.065309</td><td>17.086552</td><td>16.021242</td><td>--</td><td>--</td><td>2318.54761000</td><td>3052.06641000</td><td>4139.74781</td><td>2.031</td><td>1999</td><td>7.213</td><td>3095</td><td>7.062</td><td>--</td><td>--</td><td>0.002806</td><td>0.00481</td><td>0.004519</td><td>0.009329</td><td>81.6023624354,42.97840094338,2601.40649</td></tr>\n",
       "<tr><td>81.57292207643</td><td>42.95940091546</td><td>0.0393</td><td>0.0259</td><td>0.046190</td><td>--</td><td>--</td><td>195645209264388864</td><td>2735.39648000</td><td>0.3460</td><td>0.0478</td><td>-1.089</td><td>-0.967</td><td>0.060</td><td>0.042</td><td>0.950</td><td>5844.9</td><td>4.4486</td><td>16.250927</td><td>1.127509</td><td>16.727095</td><td>15.599586</td><td>--</td><td>--</td><td>2427.90283000</td><td>3095.55151000</td><td>5950.80764</td><td>2.235</td><td>2783</td><td>10.4</td><td>4564</td><td>9.793</td><td>--</td><td>--</td><td>0.002785</td><td>0.004925</td><td>0.00444</td><td>0.009365</td><td>81.57292207643,42.95940091546,2735.39648</td></tr>\n",
       "<tr><td>81.59908095873</td><td>42.97934028246</td><td>0.0415</td><td>0.0272</td><td>0.049772</td><td>--</td><td>--</td><td>195645385358643200</td><td>2612.82397000</td><td>0.3718</td><td>0.0478</td><td>3.667</td><td>-3.117</td><td>0.062</td><td>0.044</td><td>0.984</td><td>5926.2</td><td>4.5034</td><td>16.242672</td><td>1.140556</td><td>16.723470</td><td>15.582914</td><td>--</td><td>--</td><td>2350.36060000</td><td>2884.57251000</td><td>5996.22726</td><td>2.479</td><td>2793</td><td>9.813</td><td>4634</td><td>9.761</td><td>--</td><td>--</td><td>0.002792</td><td>0.004727</td><td>0.004417</td><td>0.009144</td><td>81.59908095873,42.97934028246,2612.82397</td></tr>\n",
       "<tr><td>81.60180901953</td><td>42.98306443331</td><td>0.0576</td><td>0.0368</td><td>0.052555</td><td>--</td><td>--</td><td>195645385358641408</td><td>2893.06592000</td><td>0.3328</td><td>0.0657</td><td>-0.135</td><td>-1.368</td><td>0.081</td><td>0.059</td><td>1.005</td><td>5524.8</td><td>4.6836</td><td>16.773453</td><td>1.114258</td><td>17.242403</td><td>16.128145</td><td>--</td><td>--</td><td>2425.44507000</td><td>3597.36914000</td><td>3677.60931</td><td>2.059</td><td>1732</td><td>7.286</td><td>2805</td><td>8.897</td><td>--</td><td>--</td><td>0.002822</td><td>0.005353</td><td>0.005113</td><td>0.01047</td><td>81.60180901953,42.98306443331,2893.06592</td></tr>\n",
       "<tr><td>81.61235710051</td><td>42.89340673209</td><td>0.0461</td><td>0.0305</td><td>0.040983</td><td>--</td><td>--</td><td>195632947133370624</td><td>2846.47827000</td><td>0.3555</td><td>0.0531</td><td>0.448</td><td>0.239</td><td>0.063</td><td>0.047</td><td>0.999</td><td>6336.4</td><td>4.4887</td><td>16.401918</td><td>1.223723</td><td>16.931911</td><td>15.708188</td><td>--</td><td>--</td><td>2391.61475000</td><td>4273.52051000</td><td>5178.20442</td><td>2.395</td><td>2305</td><td>11.52</td><td>4129</td><td>8.801</td><td>--</td><td>--</td><td>0.002801</td><td>0.006101</td><td>0.004432</td><td>0.01053</td><td>81.61235710051,42.89340673209,2846.47827</td></tr>\n",
       "<tr><td>81.68984257760</td><td>42.95144904211</td><td>0.0280</td><td>0.0188</td><td>0.050802</td><td>--</td><td>--</td><td>195633565608635392</td><td>2514.20557000</td><td>0.3555</td><td>0.0329</td><td>-0.887</td><td>-0.709</td><td>0.041</td><td>0.030</td><td>0.955</td><td>5389.7</td><td>3.6181</td><td>15.518546</td><td>1.478125</td><td>16.198195</td><td>14.720070</td><td>--</td><td>--</td><td>2312.61597000</td><td>2754.11963000</td><td>11682.29458</td><td>3.36</td><td>4530</td><td>10.49</td><td>1.026e+04</td><td>13.58</td><td>--</td><td>--</td><td>0.002773</td><td>0.003755</td><td>0.004043</td><td>0.007799</td><td>81.6898425776,42.95144904211,2514.20557</td></tr>\n",
       "</table></div>"
      ],
      "text/plain": [
       "<Table length=14>\n",
       "   RA_ICRS_1       DE_ICRS_1    ...                 SkyCoord                \n",
       "      deg             deg       ...                deg,deg,pc               \n",
       "    float64         float64     ...                 SkyCoord                \n",
       "--------------- --------------- ... ----------------------------------------\n",
       " 81.62564389768  42.93974983019 ... 81.62564389768,42.93974983019,3138.43115\n",
       " 81.62187230463  42.93624922588 ... 81.62187230463,42.93624922588,3241.66699\n",
       " 81.61260055545  42.95209988890 ...  81.61260055545,42.9520998889,2658.02783\n",
       " 81.64062967618  42.92659012262 ... 81.64062967618,42.92659012262,3680.09912\n",
       " 81.60423028846  42.92918404038 ... 81.60423028846,42.92918404038,2703.84351\n",
       " 81.59936703854  42.93817444048 ... 81.59936703854,42.93817444048,3332.52466\n",
       " 81.59270938120  42.93048227897 ...  81.5927093812,42.93048227897,3031.43726\n",
       " 81.58889547044  42.95540259001 ... 81.58889547044,42.95540259001,3142.18481\n",
       " 81.60236243540  42.97840094338 ...  81.6023624354,42.97840094338,2601.40649\n",
       " 81.57292207643  42.95940091546 ... 81.57292207643,42.95940091546,2735.39648\n",
       " 81.59908095873  42.97934028246 ... 81.59908095873,42.97934028246,2612.82397\n",
       " 81.60180901953  42.98306443331 ... 81.60180901953,42.98306443331,2893.06592\n",
       " 81.61235710051  42.89340673209 ... 81.61235710051,42.89340673209,2846.47827\n",
       " 81.68984257760  42.95144904211 ...  81.6898425776,42.95144904211,2514.20557"
      ]
     },
     "execution_count": 86,
     "metadata": {},
     "output_type": "execute_result"
    }
   ],
   "source": [
    "neighbor_source_ids = find_neighbors_by_source_id(sir, \"SkyCoord\", \"Source\", source_id=195633325090480896, max_sep=3*u.arcmin, return_table=True)\n",
    "# print(\"Neighbor source IDs:\", neighbor_source_ids)\n",
    "# fs4giesler(neighbor_source_ids)\n",
    "neighbor_source_ids"
   ]
  }
 ],
 "metadata": {
  "kernelspec": {
   "display_name": "Python 3",
   "language": "python",
   "name": "python3"
  },
  "language_info": {
   "codemirror_mode": {
    "name": "ipython",
    "version": 3
   },
   "file_extension": ".py",
   "mimetype": "text/x-python",
   "name": "python",
   "nbconvert_exporter": "python",
   "pygments_lexer": "ipython3",
   "version": "3.12.3"
  }
 },
 "nbformat": 4,
 "nbformat_minor": 2
}
